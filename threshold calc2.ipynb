{
 "cells": [
  {
   "cell_type": "code",
   "execution_count": 7,
   "id": "9f1936f5-781d-455a-80d7-15b0346a48bf",
   "metadata": {},
   "outputs": [],
   "source": [
    "import pandas as pd\n",
    "import seaborn as sns\n",
    "import numpy as np\n",
    "from statistics import mean\n",
    "import matplotlib.pyplot as plt\n",
    "from sklearn.preprocessing import LabelEncoder\n",
    "import warnings\n",
    "from sklearn.preprocessing import PowerTransformer\n",
    "from sklearn.pipeline import Pipeline\n",
    "from sklearn.utils import resample\n",
    "\n",
    "from sklearn.linear_model import LogisticRegression\n",
    "from sklearn.ensemble import RandomForestClassifier, AdaBoostClassifier, GradientBoostingClassifier\n",
    "from sklearn.neighbors import KNeighborsClassifier\n",
    "from sklearn.tree import DecisionTreeClassifier\n",
    "from sklearn.svm import SVC\n",
    "from sklearn.metrics import accuracy_score, classification_report,ConfusionMatrixDisplay,precision_score, recall_score, f1_score, roc_auc_score,roc_curve,confusion_matrix\n",
    "\n",
    "from sklearn import metrics\n",
    "from sklearn.model_selection import  train_test_split, RepeatedStratifiedKFold, cross_val_score\n",
    "from sklearn.preprocessing import OneHotEncoder, MinMaxScaler\n",
    "from sklearn.compose import ColumnTransformer\n",
    "from sklearn.impute import SimpleImputer, KNNImputer\n",
    "from xgboost import XGBClassifier\n",
    "from sklearn.preprocessing import StandardScaler, MinMaxScaler,RobustScaler\n",
    "from sklearn.compose import ColumnTransformer\n",
    "from catboost import CatBoostClassifier\n",
    "\n",
    "warnings.filterwarnings(\"ignore\")\n",
    "%matplotlib inline"
   ]
  },
  {
   "cell_type": "code",
   "execution_count": 8,
   "id": "3610bb70-c011-4933-b3a3-6865000e3d74",
   "metadata": {},
   "outputs": [],
   "source": [
    "# Load csv file\n",
    "df = pd.read_csv('distances720p.csv')"
   ]
  },
  {
   "cell_type": "code",
   "execution_count": 9,
   "id": "3afd0268-45ce-42f4-9251-f11be0b90a8d",
   "metadata": {},
   "outputs": [
    {
     "data": {
      "text/plain": [
       "(5033, 4)"
      ]
     },
     "execution_count": 9,
     "metadata": {},
     "output_type": "execute_result"
    }
   ],
   "source": [
    "# check rows and columns of the dataset\n",
    "df.shape"
   ]
  },
  {
   "cell_type": "code",
   "execution_count": 10,
   "id": "e2cd0595-b9ef-4d9a-b398-5fbe13196858",
   "metadata": {},
   "outputs": [
    {
     "data": {
      "text/plain": [
       "class\n",
       "looks good         1810\n",
       "sit up straight    1697\n",
       "straighten head    1526\n",
       "Name: count, dtype: int64"
      ]
     },
     "execution_count": 10,
     "metadata": {},
     "output_type": "execute_result"
    }
   ],
   "source": [
    "# Check unique values of target varaible\n",
    "df['class'].value_counts()"
   ]
  },
  {
   "cell_type": "code",
   "execution_count": 11,
   "id": "5bc3d650-e5a3-4c73-a939-8986007cc6d5",
   "metadata": {},
   "outputs": [
    {
     "name": "stdout",
     "output_type": "stream",
     "text": [
      "We have 3 numerical features : ['dist_left_ear_shoulder', 'dist_right_ear_shoulder', 'dist_shoulder_nose']\n",
      "\n",
      "We have 1 categorical features : ['class']\n"
     ]
    }
   ],
   "source": [
    "# define numerical & categorical columns\n",
    "numeric_features = [feature for feature in df.columns if df[feature].dtype != 'O']\n",
    "categorical_features = [feature for feature in df.columns if df[feature].dtype == 'O']\n",
    "\n",
    "# print columns\n",
    "print('We have {} numerical features : {}'.format(len(numeric_features), numeric_features))\n",
    "print('\\nWe have {} categorical features : {}'.format(len(categorical_features), categorical_features))"
   ]
  },
  {
   "cell_type": "code",
   "execution_count": 12,
   "id": "3e9eb493-0c08-4a62-91a7-09e8b29afbb4",
   "metadata": {},
   "outputs": [
    {
     "name": "stdout",
     "output_type": "stream",
     "text": [
      "Positive: 0, Negative: 0\n"
     ]
    },
    {
     "data": {
      "image/png": "[encoded data removed]",
      "text/plain": [
       "<Figure size 500x500 with 1 Axes>"
      ]
     },
     "metadata": {},
     "output_type": "display_data"
    }
   ],
   "source": [
    "pos = df[df['class']=='pos'].shape[0]\n",
    "neg = df[df['class']=='neg'].shape[0]\n",
    "print(\"Positive: \" + str(pos) + \", Negative: \" + str(neg))\n",
    "sns.catplot(data=df, x=\"class\", kind=\"count\", palette=\"winter_r\", alpha=.6)\n",
    "plt.show()"
   ]
  },
  {
   "cell_type": "code",
   "execution_count": 42,
   "id": "5db7f7c3-25f9-4765-bfe2-8235cd60c981",
   "metadata": {},
   "outputs": [],
   "source": [
    "def evaluate_clf(true, predicted):\n",
    "    '''\n",
    "    This function takes in true values and predicted values\n",
    "    Returns: Accuracy, F1-Score, Precision, Recall, ROC-AUC Score\n",
    "    '''\n",
    "    acc = accuracy_score(true, predicted)\n",
    "    f1 = f1_score(true, predicted, average='weighted')  # Use weighted averaging for F1-score\n",
    "    precision = precision_score(true, predicted, average='weighted')  # Use weighted averaging for precision\n",
    "    recall = recall_score(true, predicted, average='weighted')  # Use weighted averaging for recall\n",
    "    return acc, f1, precision, recall"
   ]
  },
  {
   "cell_type": "code",
   "execution_count": 86,
   "id": "9c49d1ca-2368-4325-9769-e5aeb6f9bf61",
   "metadata": {},
   "outputs": [],
   "source": [
    "# Create a function which can evaluate models and return a report \n",
    "def evaluate_models(X, y, models):\n",
    "    '''\n",
    "    This function takes in X and y and models dictionary as input\n",
    "    It splits the data into Train Test split\n",
    "    Iterates through the given model dictionary and evaluates the metrics\n",
    "    Returns: Dataframe which contains report of all models metrics with cost\n",
    "    '''\n",
    "    # separate dataset into train and test\n",
    "    X_train, X_test, y_train, y_test = train_test_split(X,y,test_size=0.2,random_state=42)\n",
    "    \n",
    "    models_list = []\n",
    "    accuracy_list = []\n",
    "    \n",
    "    for i in range(len(list(models))):\n",
    "        model = list(models.values())[i]\n",
    "        model.fit(X_train, y_train) # Train model\n",
    "\n",
    "        # Make predictions\n",
    "        y_train_pred = model.predict(X_train)\n",
    "        y_test_pred = model.predict(X_test)\n",
    "\n",
    "        # Training set performance\n",
    "        model_train_accuracy, model_train_f1,model_train_precision,\\\n",
    "        model_train_recall=evaluate_clf(y_train ,y_train_pred)\n",
    "\n",
    "\n",
    "        # Test set performance\n",
    "        model_test_accuracy,model_test_f1,model_test_precision,\\\n",
    "        model_test_recall=evaluate_clf(y_test, y_test_pred)\n",
    "\n",
    "        print(list(models.keys())[i])\n",
    "        models_list.append(list(models.keys())[i])\n",
    "\n",
    "        print('Model performance for Training set')\n",
    "        print(\"- Accuracy: {:.4f}\".format(model_train_accuracy))\n",
    "        print('- F1 score: {:.4f}'.format(model_train_f1)) \n",
    "        print('- Precision: {:.4f}'.format(model_train_precision))\n",
    "        print('- Recall: {:.4f}'.format(model_train_recall))\n",
    "\n",
    "        print('----------------------------------')\n",
    "\n",
    "        print('Model performance for Test set')\n",
    "        print('- Accuracy: {:.4f}'.format(model_test_accuracy))\n",
    "        print('- F1 score: {:.4f}'.format(model_test_f1))\n",
    "        print('- Precision: {:.4f}'.format(model_test_precision))\n",
    "        print('- Recall: {:.4f}'.format(model_test_recall))\n",
    "        print('='*35)\n",
    "        print('\\n')\n",
    "        \n",
    "    report=pd.DataFrame(list(zip(models_list)))\n",
    "        \n",
    "    return report"
   ]
  },
  {
   "cell_type": "code",
   "execution_count": 87,
   "id": "d605d784-d73c-4501-bdbb-d2a0e5441a46",
   "metadata": {},
   "outputs": [
    {
     "data": {
      "image/png": "[encoded data removed]",
      "text/plain": [
       "<Figure size 1500x10000 with 4 Axes>"
      ]
     },
     "metadata": {},
     "output_type": "display_data"
    }
   ],
   "source": [
    "numeric_features = [feature for feature in df.columns if df[feature].dtype != 'O']\n",
    "\n",
    "plt.figure(figsize=(15, 100))\n",
    "for i, col in enumerate(numeric_features):\n",
    "    plt.subplot(60, 3, i+1)\n",
    "    sns.distplot(x=df[col], color='indianred')\n",
    "    plt.xlabel(col, weight='bold')\n",
    "    plt.tight_layout()"
   ]
  },
  {
   "cell_type": "code",
   "execution_count": 88,
   "id": "83731af8-dcef-4b3e-aa94-e46a7d39dcf5",
   "metadata": {},
   "outputs": [],
   "source": [
    "label_encoder = LabelEncoder()\n",
    "df['class'] = label_encoder.fit_transform(df['class'])"
   ]
  },
  {
   "cell_type": "code",
   "execution_count": 89,
   "id": "7c16f6f7-ca66-4b2b-ba2c-b8058270cdc0",
   "metadata": {},
   "outputs": [],
   "source": [
    "# Splitting X and y for all Experiments\n",
    "X= df.drop('class', axis=1)\n",
    "y = df['class']"
   ]
  },
  {
   "cell_type": "code",
   "execution_count": 90,
   "id": "7f0c0f86-fe9c-40c1-8e62-6d15defa5392",
   "metadata": {},
   "outputs": [
    {
     "data": {
      "text/html": [
       "<div>\n",
       "<style scoped>\n",
       "    .dataframe tbody tr th:only-of-type {\n",
       "        vertical-align: middle;\n",
       "    }\n",
       "\n",
       "    .dataframe tbody tr th {\n",
       "        vertical-align: top;\n",
       "    }\n",
       "\n",
       "    .dataframe thead th {\n",
       "        text-align: right;\n",
       "    }\n",
       "</style>\n",
       "<table border=\"1\" class=\"dataframe\">\n",
       "  <thead>\n",
       "    <tr style=\"text-align: right;\">\n",
       "      <th></th>\n",
       "      <th>dist_left_ear_shoulder</th>\n",
       "      <th>dist_right_ear_shoulder</th>\n",
       "      <th>dist_shoulder_nose</th>\n",
       "    </tr>\n",
       "  </thead>\n",
       "  <tbody>\n",
       "    <tr>\n",
       "      <th>0</th>\n",
       "      <td>0.406014</td>\n",
       "      <td>0.366057</td>\n",
       "      <td>0.158349</td>\n",
       "    </tr>\n",
       "    <tr>\n",
       "      <th>1</th>\n",
       "      <td>0.396291</td>\n",
       "      <td>0.378735</td>\n",
       "      <td>0.184054</td>\n",
       "    </tr>\n",
       "    <tr>\n",
       "      <th>2</th>\n",
       "      <td>0.388994</td>\n",
       "      <td>0.390084</td>\n",
       "      <td>0.181476</td>\n",
       "    </tr>\n",
       "    <tr>\n",
       "      <th>3</th>\n",
       "      <td>0.412523</td>\n",
       "      <td>0.375311</td>\n",
       "      <td>0.161365</td>\n",
       "    </tr>\n",
       "    <tr>\n",
       "      <th>4</th>\n",
       "      <td>0.389295</td>\n",
       "      <td>0.371843</td>\n",
       "      <td>0.175464</td>\n",
       "    </tr>\n",
       "  </tbody>\n",
       "</table>\n",
       "</div>"
      ],
      "text/plain": [
       "   dist_left_ear_shoulder  dist_right_ear_shoulder  dist_shoulder_nose\n",
       "0                0.406014                 0.366057            0.158349\n",
       "1                0.396291                 0.378735            0.184054\n",
       "2                0.388994                 0.390084            0.181476\n",
       "3                0.412523                 0.375311            0.161365\n",
       "4                0.389295                 0.371843            0.175464"
      ]
     },
     "execution_count": 90,
     "metadata": {},
     "output_type": "execute_result"
    }
   ],
   "source": [
    "X.head()"
   ]
  },
  {
   "cell_type": "code",
   "execution_count": 91,
   "id": "cf1e5ed2-be1e-4c63-8612-0e7983b7461c",
   "metadata": {},
   "outputs": [
    {
     "data": {
      "text/plain": [
       "0    0\n",
       "1    0\n",
       "2    0\n",
       "3    0\n",
       "4    0\n",
       "Name: class, dtype: int64"
      ]
     },
     "execution_count": 91,
     "metadata": {},
     "output_type": "execute_result"
    }
   ],
   "source": [
    "y.head()"
   ]
  },
  {
   "cell_type": "code",
   "execution_count": 92,
   "id": "8068a2bb-227f-490e-8ef0-0a4d83152e96",
   "metadata": {},
   "outputs": [],
   "source": [
    "# Fit with robust scaler for KNN best K-selection experminet\n",
    "robustscaler = RobustScaler()\n",
    "X1 = robustscaler.fit_transform(X)"
   ]
  },
  {
   "cell_type": "code",
   "execution_count": 93,
   "id": "b7866ee4-170d-472a-a93d-02dfdb58ddb3",
   "metadata": {},
   "outputs": [
    {
     "name": "stdout",
     "output_type": "stream",
     "text": [
      "n_neighbors= 1 || accuracy (0.4033)\n",
      "n_neighbors= 3 || accuracy (0.4033)\n",
      "n_neighbors= 5 || accuracy (0.4033)\n",
      "n_neighbors= 7 || accuracy (0.4033)\n",
      "n_neighbors= 9 || accuracy (0.4033)\n"
     ]
    }
   ],
   "source": [
    "results=[]\n",
    "# define imputer\n",
    "imputer = KNNImputer(n_neighbors=5, weights='uniform', metric='nan_euclidean')\n",
    "strategies = [str(i) for i in [1,3,5,7,9]]\n",
    "for s in strategies:\n",
    "    pipeline = Pipeline(steps=[('i', KNNImputer(n_neighbors=int(s))), ('m', LogisticRegression())])\n",
    "    scores = cross_val_score(pipeline, X1, y, scoring='accuracy', cv=2, n_jobs=-1)\n",
    "    results.append(scores)\n",
    "    print('n_neighbors= %s || accuracy (%.4f)' % (s , mean(scores)))"
   ]
  },
  {
   "cell_type": "code",
   "execution_count": 94,
   "id": "09d628ad-b301-419e-8592-ab6312584bf7",
   "metadata": {},
   "outputs": [],
   "source": [
    "num_features = X.select_dtypes(exclude=\"object\").columns\n",
    "\n",
    "# Fit the KNN imputer with selected K-value\n",
    "knn_pipeline = Pipeline(steps=[\n",
    "    ('imputer', KNNImputer(n_neighbors=3)),\n",
    "    ('RobustScaler', RobustScaler())\n",
    "])"
   ]
  },
  {
   "cell_type": "code",
   "execution_count": 95,
   "id": "7377deae-ca79-4f3b-b880-ae150e391dd9",
   "metadata": {},
   "outputs": [],
   "source": [
    "X_knn =knn_pipeline.fit_transform(X)"
   ]
  },
  {
   "cell_type": "code",
   "execution_count": 96,
   "id": "e42ec9f4-c794-42d9-9bcc-96863180f6b4",
   "metadata": {},
   "outputs": [],
   "source": [
    "from imblearn.combine import SMOTETomek\n",
    "\n",
    "# Resampling the minority class. The strategy can be changed as required.\n",
    "smt = SMOTETomek(random_state=42,sampling_strategy='minority',n_jobs=-1)\n",
    "# Fit the model to generate the data.\n",
    "X_res, y_res = smt.fit_resample(X_knn, y)"
   ]
  },
  {
   "cell_type": "code",
   "execution_count": 97,
   "id": "9655a4bb-5ea8-4e54-b0a9-aa4d20baed1d",
   "metadata": {},
   "outputs": [],
   "source": [
    "# Dictionary which contains models for experiment\n",
    "models = {\n",
    "    \"Random Forest\": RandomForestClassifier(),\n",
    "    \"Decision Tree\": DecisionTreeClassifier(),\n",
    "    \"Gradient Boosting\": GradientBoostingClassifier(),\n",
    "    \"Logistic Regression\": LogisticRegression(),\n",
    "     \"K-Neighbors Classifier\": KNeighborsClassifier(),\n",
    "    \"XGBClassifier\": XGBClassifier(), \n",
    "     \"CatBoosting Classifier\": CatBoostClassifier(verbose=False),\n",
    "    \"AdaBoost Classifier\": AdaBoostClassifier()\n",
    "}"
   ]
  },
  {
   "cell_type": "code",
   "execution_count": 98,
   "id": "8fc35306-fea8-4075-91dd-4b4dce429761",
   "metadata": {},
   "outputs": [
    {
     "name": "stdout",
     "output_type": "stream",
     "text": [
      "Random Forest\n",
      "Model performance for Training set\n",
      "- Accuracy: 1.0000\n",
      "- F1 score: 1.0000\n",
      "- Precision: 1.0000\n",
      "- Recall: 1.0000\n",
      "----------------------------------\n",
      "Model performance for Test set\n",
      "- Accuracy: 0.9106\n",
      "- F1 score: 0.9100\n",
      "- Precision: 0.9103\n",
      "- Recall: 0.9106\n",
      "===================================\n",
      "\n",
      "\n",
      "Decision Tree\n",
      "Model performance for Training set\n",
      "- Accuracy: 1.0000\n",
      "- F1 score: 1.0000\n",
      "- Precision: 1.0000\n",
      "- Recall: 1.0000\n",
      "----------------------------------\n",
      "Model performance for Test set\n",
      "- Accuracy: 0.8765\n",
      "- F1 score: 0.8764\n",
      "- Precision: 0.8764\n",
      "- Recall: 0.8765\n",
      "===================================\n",
      "\n",
      "\n",
      "Gradient Boosting\n",
      "Model performance for Training set\n",
      "- Accuracy: 0.8922\n",
      "- F1 score: 0.8916\n",
      "- Precision: 0.8935\n",
      "- Recall: 0.8922\n",
      "----------------------------------\n",
      "Model performance for Test set\n",
      "- Accuracy: 0.8504\n",
      "- F1 score: 0.8492\n",
      "- Precision: 0.8514\n",
      "- Recall: 0.8504\n",
      "===================================\n",
      "\n",
      "\n",
      "Logistic Regression\n",
      "Model performance for Training set\n",
      "- Accuracy: 0.6029\n",
      "- F1 score: 0.5905\n",
      "- Precision: 0.5955\n",
      "- Recall: 0.6029\n",
      "----------------------------------\n",
      "Model performance for Test set\n",
      "- Accuracy: 0.5773\n",
      "- F1 score: 0.5650\n",
      "- Precision: 0.5664\n",
      "- Recall: 0.5773\n",
      "===================================\n",
      "\n",
      "\n",
      "K-Neighbors Classifier\n",
      "Model performance for Training set\n",
      "- Accuracy: 0.9272\n",
      "- F1 score: 0.9267\n",
      "- Precision: 0.9272\n",
      "- Recall: 0.9272\n",
      "----------------------------------\n",
      "Model performance for Test set\n",
      "- Accuracy: 0.8936\n",
      "- F1 score: 0.8925\n",
      "- Precision: 0.8944\n",
      "- Recall: 0.8936\n",
      "===================================\n",
      "\n",
      "\n",
      "XGBClassifier\n",
      "Model performance for Training set\n",
      "- Accuracy: 0.9892\n",
      "- F1 score: 0.9892\n",
      "- Precision: 0.9892\n",
      "- Recall: 0.9892\n",
      "----------------------------------\n",
      "Model performance for Test set\n",
      "- Accuracy: 0.8996\n",
      "- F1 score: 0.8991\n",
      "- Precision: 0.8993\n",
      "- Recall: 0.8996\n",
      "===================================\n",
      "\n",
      "\n",
      "CatBoosting Classifier\n",
      "Model performance for Training set\n",
      "- Accuracy: 0.9568\n",
      "- F1 score: 0.9567\n",
      "- Precision: 0.9572\n",
      "- Recall: 0.9568\n",
      "----------------------------------\n",
      "Model performance for Test set\n",
      "- Accuracy: 0.9046\n",
      "- F1 score: 0.9039\n",
      "- Precision: 0.9044\n",
      "- Recall: 0.9046\n",
      "===================================\n",
      "\n",
      "\n",
      "AdaBoost Classifier\n",
      "Model performance for Training set\n",
      "- Accuracy: 0.7453\n",
      "- F1 score: 0.7430\n",
      "- Precision: 0.7450\n",
      "- Recall: 0.7453\n",
      "----------------------------------\n",
      "Model performance for Test set\n",
      "- Accuracy: 0.7510\n",
      "- F1 score: 0.7485\n",
      "- Precision: 0.7510\n",
      "- Recall: 0.7510\n",
      "===================================\n",
      "\n",
      "\n"
     ]
    }
   ],
   "source": [
    "report_knn = evaluate_models(X_res, y_res, models)"
   ]
  },
  {
   "cell_type": "code",
   "execution_count": 99,
   "id": "8ef31c55-cab9-463f-ad5e-b451cf5be793",
   "metadata": {},
   "outputs": [],
   "source": [
    "num_features = X.select_dtypes(exclude=\"object\").columns\n",
    "\n",
    "# Fit the Simple imputer with strategy median\n",
    "median_pipeline = Pipeline(steps=[\n",
    "    ('imputer', SimpleImputer(strategy='median')),\n",
    "    ('RobustScaler', RobustScaler())\n",
    "])"
   ]
  },
  {
   "cell_type": "code",
   "execution_count": 100,
   "id": "b7dddb32-aa57-4e8c-9f91-c35a73d53745",
   "metadata": {},
   "outputs": [],
   "source": [
    "# Fit X with median_pipeline\n",
    "X_median = median_pipeline.fit_transform(X)"
   ]
  },
  {
   "cell_type": "code",
   "execution_count": 101,
   "id": "788c1919-58b3-4dad-a73c-9791a5dec6ee",
   "metadata": {},
   "outputs": [],
   "source": [
    "# Resampling the minority class. The strategy can be changed as required.\n",
    "smt = SMOTETomek(random_state=42,sampling_strategy='minority')\n",
    "# Fit the model to generate the data.\n",
    "X_res, y_res = smt.fit_resample(X_median, y)"
   ]
  },
  {
   "cell_type": "code",
   "execution_count": 102,
   "id": "3b2dfa5b-698a-4149-9389-d44963e1a9f3",
   "metadata": {},
   "outputs": [
    {
     "name": "stdout",
     "output_type": "stream",
     "text": [
      "Random Forest\n",
      "Model performance for Training set\n",
      "- Accuracy: 1.0000\n",
      "- F1 score: 1.0000\n",
      "- Precision: 1.0000\n",
      "- Recall: 1.0000\n",
      "----------------------------------\n",
      "Model performance for Test set\n",
      "- Accuracy: 0.9096\n",
      "- F1 score: 0.9091\n",
      "- Precision: 0.9092\n",
      "- Recall: 0.9096\n",
      "===================================\n",
      "\n",
      "\n",
      "Decision Tree\n",
      "Model performance for Training set\n",
      "- Accuracy: 1.0000\n",
      "- F1 score: 1.0000\n",
      "- Precision: 1.0000\n",
      "- Recall: 1.0000\n",
      "----------------------------------\n",
      "Model performance for Test set\n",
      "- Accuracy: 0.8755\n",
      "- F1 score: 0.8753\n",
      "- Precision: 0.8753\n",
      "- Recall: 0.8755\n",
      "===================================\n",
      "\n",
      "\n",
      "Gradient Boosting\n",
      "Model performance for Training set\n",
      "- Accuracy: 0.8922\n",
      "- F1 score: 0.8916\n",
      "- Precision: 0.8935\n",
      "- Recall: 0.8922\n",
      "----------------------------------\n",
      "Model performance for Test set\n",
      "- Accuracy: 0.8504\n",
      "- F1 score: 0.8492\n",
      "- Precision: 0.8514\n",
      "- Recall: 0.8504\n",
      "===================================\n",
      "\n",
      "\n",
      "Logistic Regression\n",
      "Model performance for Training set\n",
      "- Accuracy: 0.6029\n",
      "- F1 score: 0.5905\n",
      "- Precision: 0.5955\n",
      "- Recall: 0.6029\n",
      "----------------------------------\n",
      "Model performance for Test set\n",
      "- Accuracy: 0.5773\n",
      "- F1 score: 0.5650\n",
      "- Precision: 0.5664\n",
      "- Recall: 0.5773\n",
      "===================================\n",
      "\n",
      "\n",
      "K-Neighbors Classifier\n",
      "Model performance for Training set\n",
      "- Accuracy: 0.9272\n",
      "- F1 score: 0.9267\n",
      "- Precision: 0.9272\n",
      "- Recall: 0.9272\n",
      "----------------------------------\n",
      "Model performance for Test set\n",
      "- Accuracy: 0.8936\n",
      "- F1 score: 0.8925\n",
      "- Precision: 0.8944\n",
      "- Recall: 0.8936\n",
      "===================================\n",
      "\n",
      "\n",
      "XGBClassifier\n",
      "Model performance for Training set\n",
      "- Accuracy: 0.9892\n",
      "- F1 score: 0.9892\n",
      "- Precision: 0.9892\n",
      "- Recall: 0.9892\n",
      "----------------------------------\n",
      "Model performance for Test set\n",
      "- Accuracy: 0.8996\n",
      "- F1 score: 0.8991\n",
      "- Precision: 0.8993\n",
      "- Recall: 0.8996\n",
      "===================================\n",
      "\n",
      "\n",
      "CatBoosting Classifier\n",
      "Model performance for Training set\n",
      "- Accuracy: 0.9568\n",
      "- F1 score: 0.9567\n",
      "- Precision: 0.9572\n",
      "- Recall: 0.9568\n",
      "----------------------------------\n",
      "Model performance for Test set\n",
      "- Accuracy: 0.9046\n",
      "- F1 score: 0.9039\n",
      "- Precision: 0.9044\n",
      "- Recall: 0.9046\n",
      "===================================\n",
      "\n",
      "\n",
      "AdaBoost Classifier\n",
      "Model performance for Training set\n",
      "- Accuracy: 0.7453\n",
      "- F1 score: 0.7430\n",
      "- Precision: 0.7450\n",
      "- Recall: 0.7453\n",
      "----------------------------------\n",
      "Model performance for Test set\n",
      "- Accuracy: 0.7510\n",
      "- F1 score: 0.7485\n",
      "- Precision: 0.7510\n",
      "- Recall: 0.7510\n",
      "===================================\n",
      "\n",
      "\n"
     ]
    }
   ],
   "source": [
    "# Training the models\n",
    "report_median = evaluate_models(X_res, y_res, models)"
   ]
  },
  {
   "cell_type": "code",
   "execution_count": 110,
   "id": "4f8c1579-1fb3-460b-8952-4e470b00ddd4",
   "metadata": {},
   "outputs": [],
   "source": [
    "# Create a pipeline with simple imputer with strategy constant and fill value 0\n",
    "constant_pipeline = Pipeline(steps=[\n",
    "    ('Imputer', SimpleImputer(strategy='constant', fill_value=0)),\n",
    "    ('RobustScaler', RobustScaler())\n",
    "])"
   ]
  },
  {
   "cell_type": "code",
   "execution_count": 111,
   "id": "c01e2a65-b3e8-4778-9133-db15ca7aebb4",
   "metadata": {},
   "outputs": [],
   "source": [
    "X_const =constant_pipeline.fit_transform(X)"
   ]
  },
  {
   "cell_type": "code",
   "execution_count": 112,
   "id": "ac718480-26da-4123-b520-75cf9bdfe0f8",
   "metadata": {},
   "outputs": [],
   "source": [
    "# Resampling the minority class. The strategy can be changed as required.\n",
    "smt = SMOTETomek(random_state=42,sampling_strategy='minority', n_jobs=-1 )\n",
    "# Fit the model to generate the data.\n",
    "X_res, y_res = smt.fit_resample(X_const, y)"
   ]
  },
  {
   "cell_type": "code",
   "execution_count": 113,
   "id": "58510ccc-3da2-4aa4-bf55-6e67ffebe37f",
   "metadata": {},
   "outputs": [
    {
     "name": "stdout",
     "output_type": "stream",
     "text": [
      "Random Forest\n",
      "Model performance for Training set\n",
      "- Accuracy: 1.0000\n",
      "- F1 score: 1.0000\n",
      "- Precision: 1.0000\n",
      "- Recall: 1.0000\n",
      "----------------------------------\n",
      "Model performance for Test set\n",
      "- Accuracy: 0.9066\n",
      "- F1 score: 0.9060\n",
      "- Precision: 0.9063\n",
      "- Recall: 0.9066\n",
      "===================================\n",
      "\n",
      "\n",
      "Decision Tree\n",
      "Model performance for Training set\n",
      "- Accuracy: 1.0000\n",
      "- F1 score: 1.0000\n",
      "- Precision: 1.0000\n",
      "- Recall: 1.0000\n",
      "----------------------------------\n",
      "Model performance for Test set\n",
      "- Accuracy: 0.8735\n",
      "- F1 score: 0.8733\n",
      "- Precision: 0.8732\n",
      "- Recall: 0.8735\n",
      "===================================\n",
      "\n",
      "\n",
      "Gradient Boosting\n",
      "Model performance for Training set\n",
      "- Accuracy: 0.8922\n",
      "- F1 score: 0.8916\n",
      "- Precision: 0.8935\n",
      "- Recall: 0.8922\n",
      "----------------------------------\n",
      "Model performance for Test set\n",
      "- Accuracy: 0.8504\n",
      "- F1 score: 0.8492\n",
      "- Precision: 0.8514\n",
      "- Recall: 0.8504\n",
      "===================================\n",
      "\n",
      "\n",
      "Logistic Regression\n",
      "Model performance for Training set\n",
      "- Accuracy: 0.6029\n",
      "- F1 score: 0.5905\n",
      "- Precision: 0.5955\n",
      "- Recall: 0.6029\n",
      "----------------------------------\n",
      "Model performance for Test set\n",
      "- Accuracy: 0.5773\n",
      "- F1 score: 0.5650\n",
      "- Precision: 0.5664\n",
      "- Recall: 0.5773\n",
      "===================================\n",
      "\n",
      "\n",
      "K-Neighbors Classifier\n",
      "Model performance for Training set\n",
      "- Accuracy: 0.9272\n",
      "- F1 score: 0.9267\n",
      "- Precision: 0.9272\n",
      "- Recall: 0.9272\n",
      "----------------------------------\n",
      "Model performance for Test set\n",
      "- Accuracy: 0.8936\n",
      "- F1 score: 0.8925\n",
      "- Precision: 0.8944\n",
      "- Recall: 0.8936\n",
      "===================================\n",
      "\n",
      "\n",
      "XGBClassifier\n",
      "Model performance for Training set\n",
      "- Accuracy: 0.9892\n",
      "- F1 score: 0.9892\n",
      "- Precision: 0.9892\n",
      "- Recall: 0.9892\n",
      "----------------------------------\n",
      "Model performance for Test set\n",
      "- Accuracy: 0.8996\n",
      "- F1 score: 0.8991\n",
      "- Precision: 0.8993\n",
      "- Recall: 0.8996\n",
      "===================================\n",
      "\n",
      "\n",
      "CatBoosting Classifier\n",
      "Model performance for Training set\n",
      "- Accuracy: 0.9568\n",
      "- F1 score: 0.9567\n",
      "- Precision: 0.9572\n",
      "- Recall: 0.9568\n",
      "----------------------------------\n",
      "Model performance for Test set\n",
      "- Accuracy: 0.9046\n",
      "- F1 score: 0.9039\n",
      "- Precision: 0.9044\n",
      "- Recall: 0.9046\n",
      "===================================\n",
      "\n",
      "\n",
      "AdaBoost Classifier\n",
      "Model performance for Training set\n",
      "- Accuracy: 0.7453\n",
      "- F1 score: 0.7430\n",
      "- Precision: 0.7450\n",
      "- Recall: 0.7453\n",
      "----------------------------------\n",
      "Model performance for Test set\n",
      "- Accuracy: 0.7510\n",
      "- F1 score: 0.7485\n",
      "- Precision: 0.7510\n",
      "- Recall: 0.7510\n",
      "===================================\n",
      "\n",
      "\n"
     ]
    }
   ],
   "source": [
    "# training the models\n",
    "report_const = evaluate_models(X_res, y_res, models)"
   ]
  },
  {
   "cell_type": "code",
   "execution_count": null,
   "id": "5d3647b9-d975-43a3-a05a-57b80ff7dbd4",
   "metadata": {},
   "outputs": [],
   "source": []
  }
 ],
 "metadata": {
  "kernelspec": {
   "display_name": "Python 3 (ipykernel)",
   "language": "python",
   "name": "python3"
  },
  "language_info": {
   "codemirror_mode": {
    "name": "ipython",
    "version": 3
   },
   "file_extension": ".py",
   "mimetype": "text/x-python",
   "name": "python",
   "nbconvert_exporter": "python",
   "pygments_lexer": "ipython3",
   "version": "3.8.19"
  }
 },
 "nbformat": 4,
 "nbformat_minor": 5
}
