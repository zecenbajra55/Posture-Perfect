{
 "cells": [
  {
   "cell_type": "markdown",
   "id": "dfe1d51c-a3fc-4428-97d3-fdf31897d343",
   "metadata": {
    "jp-MarkdownHeadingCollapsed": true
   },
   "source": [
    "# Single Image calculation"
   ]
  },
  {
   "cell_type": "code",
   "execution_count": 13,
   "id": "7fa386d2-69fa-4eb8-964b-9266a3a60c83",
   "metadata": {},
   "outputs": [],
   "source": [
    "import cv2\n",
    "import mediapipe as mp\n",
    "\n",
    "# Load the image\n",
    "image_path = 'extract0001_jpg.rf.5cbed8dc6cd07b5f9f62b4e22d23745f.jpg'\n",
    "image = cv2.imread(image_path)\n",
    "image_rgb = cv2.cvtColor(image, cv2.COLOR_BGR2RGB)\n",
    "\n",
    "# Initialize Mediapipe Pose model\n",
    "mp_pose = mp.solutions.pose\n",
    "pose = mp_pose.Pose(static_image_mode=False, min_detection_confidence=0.5, min_tracking_confidence=0.5)\n",
    "\n",
    "# Process the image to detect poses\n",
    "results = pose.process(image_rgb)\n",
    "\n",
    "# Draw poses on the image\n",
    "if results.pose_landmarks:\n",
    "    mp_drawing = mp.solutions.drawing_utils\n",
    "    annotated_image = image.copy()\n",
    "    mp_drawing.draw_landmarks(annotated_image, results.pose_landmarks, mp_pose.POSE_CONNECTIONS)\n",
    "\n",
    "# Resize the image to reduce the output window size\n",
    "scale_percent = 50  # adjust this value as needed\n",
    "width = int(annotated_image.shape[1] * scale_percent / 100)\n",
    "height = int(annotated_image.shape[0] * scale_percent / 100)\n",
    "resized_image = cv2.resize(annotated_image, (width, height))\n",
    "\n",
    "# Display the resized image\n",
    "cv2.imshow('Resized Image with Poses', resized_image)\n",
    "cv2.waitKey(0)\n",
    "cv2.destroyAllWindows()\n"
   ]
  },
  {
   "cell_type": "code",
   "execution_count": 8,
   "id": "da29b42e-7c37-4ec8-9048-ec60c142a1fd",
   "metadata": {
    "scrolled": true
   },
   "outputs": [
    {
     "ename": "AttributeError",
     "evalue": "'mediapipe.python._framework_bindings.image.Image' object has no attribute 'read'",
     "output_type": "error",
     "traceback": [
      "\u001b[1;31m---------------------------------------------------------------------------\u001b[0m",
      "\u001b[1;31mAttributeError\u001b[0m                            Traceback (most recent call last)",
      "File \u001b[1;32m~\\anaconda3\\envs\\mp\\lib\\site-packages\\PIL\\Image.py:3281\u001b[0m, in \u001b[0;36mopen\u001b[1;34m(fp, mode, formats)\u001b[0m\n\u001b[0;32m   3280\u001b[0m \u001b[38;5;28;01mtry\u001b[39;00m:\n\u001b[1;32m-> 3281\u001b[0m     \u001b[43mfp\u001b[49m\u001b[38;5;241;43m.\u001b[39;49m\u001b[43mseek\u001b[49m(\u001b[38;5;241m0\u001b[39m)\n\u001b[0;32m   3282\u001b[0m \u001b[38;5;28;01mexcept\u001b[39;00m (\u001b[38;5;167;01mAttributeError\u001b[39;00m, io\u001b[38;5;241m.\u001b[39mUnsupportedOperation):\n",
      "\u001b[1;31mAttributeError\u001b[0m: 'mediapipe.python._framework_bindings.image.Image' object has no attribute 'seek'",
      "\nDuring handling of the above exception, another exception occurred:\n",
      "\u001b[1;31mAttributeError\u001b[0m                            Traceback (most recent call last)",
      "Cell \u001b[1;32mIn[8], line 3\u001b[0m\n\u001b[0;32m      1\u001b[0m \u001b[38;5;28;01mfrom\u001b[39;00m \u001b[38;5;21;01mPIL\u001b[39;00m \u001b[38;5;28;01mimport\u001b[39;00m Image\n\u001b[1;32m----> 3\u001b[0m img \u001b[38;5;241m=\u001b[39m \u001b[43mImage\u001b[49m\u001b[38;5;241;43m.\u001b[39;49m\u001b[43mopen\u001b[49m\u001b[43m(\u001b[49m\u001b[43mimage\u001b[49m\u001b[43m)\u001b[49m\n\u001b[0;32m      4\u001b[0m img\u001b[38;5;241m.\u001b[39mshow()\n",
      "File \u001b[1;32m~\\anaconda3\\envs\\mp\\lib\\site-packages\\PIL\\Image.py:3283\u001b[0m, in \u001b[0;36mopen\u001b[1;34m(fp, mode, formats)\u001b[0m\n\u001b[0;32m   3281\u001b[0m     fp\u001b[38;5;241m.\u001b[39mseek(\u001b[38;5;241m0\u001b[39m)\n\u001b[0;32m   3282\u001b[0m \u001b[38;5;28;01mexcept\u001b[39;00m (\u001b[38;5;167;01mAttributeError\u001b[39;00m, io\u001b[38;5;241m.\u001b[39mUnsupportedOperation):\n\u001b[1;32m-> 3283\u001b[0m     fp \u001b[38;5;241m=\u001b[39m io\u001b[38;5;241m.\u001b[39mBytesIO(\u001b[43mfp\u001b[49m\u001b[38;5;241;43m.\u001b[39;49m\u001b[43mread\u001b[49m())\n\u001b[0;32m   3284\u001b[0m     exclusive_fp \u001b[38;5;241m=\u001b[39m \u001b[38;5;28;01mTrue\u001b[39;00m\n\u001b[0;32m   3286\u001b[0m prefix \u001b[38;5;241m=\u001b[39m fp\u001b[38;5;241m.\u001b[39mread(\u001b[38;5;241m16\u001b[39m)\n",
      "\u001b[1;31mAttributeError\u001b[0m: 'mediapipe.python._framework_bindings.image.Image' object has no attribute 'read'"
     ]
    }
   ],
   "source": [
    "from PIL import Image\n",
    "\n",
    "img = Image.open(image)\n",
    "img.show()"
   ]
  },
  {
   "cell_type": "markdown",
   "id": "3232206d-7560-456d-8a6e-cbe30d4f5832",
   "metadata": {},
   "source": [
    "# Making dataframe from images "
   ]
  },
  {
   "cell_type": "markdown",
   "id": "b4b58ba7-e0f2-41c2-956a-b6abf25a3fbc",
   "metadata": {
    "jp-MarkdownHeadingCollapsed": true
   },
   "source": [
    "## not normalized"
   ]
  },
  {
   "cell_type": "code",
   "execution_count": 5,
   "id": "01abece9-68aa-41c6-9674-5efffc8e1c04",
   "metadata": {},
   "outputs": [
    {
     "name": "stdout",
     "output_type": "stream",
     "text": [
      "Processing complete. Distances saved to distances.csv\n"
     ]
    }
   ],
   "source": [
    "import os\n",
    "import cv2\n",
    "import mediapipe as mp\n",
    "import pandas as pd\n",
    "import numpy as np\n",
    "\n",
    "# Initialize MediaPipe\n",
    "mp_drawing = mp.solutions.drawing_utils\n",
    "mp_pose = mp.solutions.pose\n",
    "\n",
    "# Define function to calculate Euclidean distance\n",
    "def euclidean_distance(point1, point2):\n",
    "    return np.sqrt((point1[0] - point2[0]) ** 2 + (point1[1] - point2[1]) ** 2)\n",
    "\n",
    "# Define function to calculate midpoint\n",
    "def calc_midpoint(point1, point2):\n",
    "    return [(point1[0] + point2[0]) / 2, (point1[1] + point2[1]) / 2]\n",
    "\n",
    "# Define function to process an image and calculate distances\n",
    "def process_image(image_path):\n",
    "    image = cv2.imread(image_path)\n",
    "    if image is None:\n",
    "        return None\n",
    "    \n",
    "    # Convert the image to RGB\n",
    "    image_rgb = cv2.cvtColor(image, cv2.COLOR_BGR2RGB)\n",
    "    \n",
    "    with mp_pose.Pose(static_image_mode=True, min_detection_confidence=0.5) as pose:\n",
    "        results = pose.process(image_rgb)\n",
    "        \n",
    "        if results.pose_landmarks:\n",
    "            landmarks = results.pose_landmarks.landmark\n",
    "            \n",
    "            # Get coordinates\n",
    "            nose = [landmarks[mp_pose.PoseLandmark.NOSE.value].x, landmarks[mp_pose.PoseLandmark.NOSE.value].y]\n",
    "            left_shoulder = [landmarks[mp_pose.PoseLandmark.LEFT_SHOULDER.value].x, landmarks[mp_pose.PoseLandmark.LEFT_SHOULDER.value].y]\n",
    "            left_ear = [landmarks[mp_pose.PoseLandmark.LEFT_EAR.value].x, landmarks[mp_pose.PoseLandmark.LEFT_EAR.value].y]\n",
    "            right_shoulder = [landmarks[mp_pose.PoseLandmark.RIGHT_SHOULDER.value].x, landmarks[mp_pose.PoseLandmark.RIGHT_SHOULDER.value].y]\n",
    "            right_ear = [landmarks[mp_pose.PoseLandmark.RIGHT_EAR.value].x, landmarks[mp_pose.PoseLandmark.RIGHT_EAR.value].y]\n",
    "            \n",
    "            # Calculate distances\n",
    "            dist1 = euclidean_distance(left_ear, left_shoulder)\n",
    "            dist2 = euclidean_distance(right_ear, right_shoulder)\n",
    "            \n",
    "            # Calculate midpoint and distance between midpoints for left side\n",
    "            midpoint1 = calc_midpoint(left_ear, left_shoulder)\n",
    "            dist_midpoint1 = euclidean_distance(left_ear, left_shoulder)\n",
    "            \n",
    "            # Calculate midpoint and distance between midpoints for right side\n",
    "            midpoint2 = calc_midpoint(right_ear, right_shoulder)\n",
    "            dist_midpoint2 = euclidean_distance(right_ear, right_shoulder)\n",
    "            \n",
    "            # Calculate midpoint and distance between midpoint and nose\n",
    "            shoulder_midpoint = calc_midpoint(midpoint1, midpoint2)\n",
    "            dist_shoulder_nose = euclidean_distance(shoulder_midpoint, nose)\n",
    "            \n",
    "            return {\n",
    "                'dist_left_ear_shoulder': dist1,\n",
    "                'dist_right_ear_shoulder': dist2,\n",
    "                'dist_shoulder_nose': dist_shoulder_nose\n",
    "            }\n",
    "    return None\n",
    "\n",
    "# Path to the dataset\n",
    "dataset_path = r'C:\\Users\\hp\\Desktop\\FDV\\final project\\data'\n",
    "categories = os.listdir(dataset_path)\n",
    "\n",
    "# Initialize DataFrame\n",
    "data = []\n",
    "\n",
    "# Process each category (i.e., class)\n",
    "for category in categories:\n",
    "    category_path = os.path.join(dataset_path, category)\n",
    "    if os.path.isdir(category_path):\n",
    "        # Process each image in the category folder\n",
    "        for image_name in os.listdir(category_path):\n",
    "            image_path = os.path.join(category_path, image_name)\n",
    "            distances = process_image(image_path)\n",
    "            if distances is not None:\n",
    "                distances['class'] = category\n",
    "                data.append(distances)\n",
    "\n",
    "# Create DataFrame\n",
    "df = pd.DataFrame(data)\n",
    "\n",
    "# Save DataFrame to CSV\n",
    "df.to_csv('distances.csv', index=False)\n",
    "\n",
    "print(\"Processing complete. Distances saved to distances.csv\")\n"
   ]
  },
  {
   "cell_type": "markdown",
   "id": "5b14ca47-21c8-4405-aff7-d6a385bcd569",
   "metadata": {},
   "source": [
    "## Normalized to 720p and only distances"
   ]
  },
  {
   "cell_type": "code",
   "execution_count": 1,
   "id": "e8a3b7c3-f659-4829-b29f-3b7f41030379",
   "metadata": {},
   "outputs": [
    {
     "name": "stdout",
     "output_type": "stream",
     "text": [
      "Processing complete. Distances saved to distances.csv\n"
     ]
    }
   ],
   "source": [
    "import os\n",
    "import cv2\n",
    "import mediapipe as mp\n",
    "import pandas as pd\n",
    "import numpy as np\n",
    "\n",
    "# Initialize MediaPipe\n",
    "mp_drawing = mp.solutions.drawing_utils\n",
    "mp_pose = mp.solutions.pose\n",
    "\n",
    "# Define function to calculate Euclidean distance\n",
    "def euclidean_distance(point1, point2):\n",
    "    return np.sqrt((point1[0] - point2[0]) ** 2 + (point1[1] - point2[1]) ** 2)\n",
    "\n",
    "# Define function to calculate midpoint\n",
    "def calc_midpoint(point1, point2):\n",
    "    return [(point1[0] + point2[0]) / 2, (point1[1] + point2[1]) / 2]\n",
    "\n",
    "# Define function to process an image and calculate distances\n",
    "def process_image(image_path):\n",
    "    image = cv2.imread(image_path)\n",
    "    if image is None:\n",
    "        return None\n",
    "    \n",
    "    # Resize the image to 1280x720 pixels\n",
    "    image_resized = cv2.resize(image, (1280, 720))\n",
    "    \n",
    "    # Convert the image to RGB\n",
    "    image_rgb = cv2.cvtColor(image_resized, cv2.COLOR_BGR2RGB)\n",
    "    \n",
    "    with mp_pose.Pose(static_image_mode=True, min_detection_confidence=0.5) as pose:\n",
    "        results = pose.process(image_rgb)\n",
    "        \n",
    "        if results.pose_landmarks:\n",
    "            landmarks = results.pose_landmarks.landmark\n",
    "            \n",
    "            # Get coordinates\n",
    "            nose = [landmarks[mp_pose.PoseLandmark.NOSE.value].x, landmarks[mp_pose.PoseLandmark.NOSE.value].y]\n",
    "            left_shoulder = [landmarks[mp_pose.PoseLandmark.LEFT_SHOULDER.value].x, landmarks[mp_pose.PoseLandmark.LEFT_SHOULDER.value].y]\n",
    "            left_ear = [landmarks[mp_pose.PoseLandmark.LEFT_EAR.value].x, landmarks[mp_pose.PoseLandmark.LEFT_EAR.value].y]\n",
    "            right_shoulder = [landmarks[mp_pose.PoseLandmark.RIGHT_SHOULDER.value].x, landmarks[mp_pose.PoseLandmark.RIGHT_SHOULDER.value].y]\n",
    "            right_ear = [landmarks[mp_pose.PoseLandmark.RIGHT_EAR.value].x, landmarks[mp_pose.PoseLandmark.RIGHT_EAR.value].y]\n",
    "            \n",
    "            # Calculate distances\n",
    "            dist1 = euclidean_distance(left_ear, left_shoulder)\n",
    "            dist2 = euclidean_distance(right_ear, right_shoulder)\n",
    "            \n",
    "            # Calculate midpoint and distance between midpoints for left side\n",
    "            midpoint1 = calc_midpoint(left_ear, left_shoulder)\n",
    "            dist_midpoint1 = euclidean_distance(left_ear, left_shoulder)\n",
    "            \n",
    "            # Calculate midpoint and distance between midpoints for right side\n",
    "            midpoint2 = calc_midpoint(right_ear, right_shoulder)\n",
    "            dist_midpoint2 = euclidean_distance(right_ear, right_shoulder)\n",
    "            \n",
    "            # Calculate midpoint and distance between midpoint and nose\n",
    "            shoulder_midpoint = calc_midpoint(midpoint1, midpoint2)\n",
    "            dist_shoulder_nose = euclidean_distance(shoulder_midpoint, nose)\n",
    "            \n",
    "            return {\n",
    "                'dist_left_ear_shoulder': dist1,\n",
    "                'dist_right_ear_shoulder': dist2,\n",
    "                'dist_shoulder_nose': dist_shoulder_nose\n",
    "            }\n",
    "    return None\n",
    "\n",
    "# Path to the dataset\n",
    "dataset_path = r'C:\\Users\\hp\\Desktop\\FDV\\final project\\data'\n",
    "categories = os.listdir(dataset_path)\n",
    "\n",
    "# Initialize DataFrame\n",
    "data = []\n",
    "\n",
    "# Process each category (i.e., class)\n",
    "for category in categories:\n",
    "    category_path = os.path.join(dataset_path, category)\n",
    "    if os.path.isdir(category_path):\n",
    "        # Process each image in the category folder\n",
    "        for image_name in os.listdir(category_path):\n",
    "            image_path = os.path.join(category_path, image_name)\n",
    "            distances = process_image(image_path)\n",
    "            if distances is not None:\n",
    "                distances['class'] = category\n",
    "                data.append(distances)\n",
    "\n",
    "# Create DataFrame\n",
    "df = pd.DataFrame(data)\n",
    "\n",
    "# Save DataFrame to CSV\n",
    "df.to_csv('distances720p.csv', index=False)\n",
    "\n",
    "print(\"Processing complete. Distances saved to distances.csv\")\n"
   ]
  },
  {
   "cell_type": "markdown",
   "id": "552d1e15-4173-40f3-8f2e-d1f82189c842",
   "metadata": {
    "jp-MarkdownHeadingCollapsed": true
   },
   "source": [
    "## Normalized all and calculated for all angles and distances"
   ]
  },
  {
   "cell_type": "code",
   "execution_count": 1,
   "id": "5cd72b28-06ff-4ac3-939f-6b1d62952b0a",
   "metadata": {},
   "outputs": [
    {
     "name": "stdout",
     "output_type": "stream",
     "text": [
      "Processing complete. Distances and angles saved to d&a720p.csv\n"
     ]
    }
   ],
   "source": [
    "import os\n",
    "import cv2\n",
    "import mediapipe as mp\n",
    "import pandas as pd\n",
    "import numpy as np\n",
    "\n",
    "# Initialize MediaPipe\n",
    "mp_drawing = mp.solutions.drawing_utils\n",
    "mp_pose = mp.solutions.pose\n",
    "\n",
    "# Define function to calculate Euclidean distance\n",
    "def euclidean_distance(point1, point2):\n",
    "    return np.sqrt((point1[0] - point2[0]) ** 2 + (point1[1] - point2[1]) ** 2)\n",
    "\n",
    "# Define function to calculate midpoint\n",
    "def calc_midpoint(point1, point2):\n",
    "    return [(point1[0] + point2[0]) / 2, (point1[1] + point2[1]) / 2]\n",
    "\n",
    "# Define function to calculate angle between three points (in degrees)\n",
    "def calc_angle(pointA, pointB, pointC):\n",
    "    # Create vectors AB and BC\n",
    "    AB = np.array(pointB) - np.array(pointA)\n",
    "    BC = np.array(pointB) - np.array(pointC)\n",
    "    \n",
    "    # Calculate the dot product and magnitudes of the vectors\n",
    "    dot_product = np.dot(AB, BC)\n",
    "    magnitude_AB = np.linalg.norm(AB)\n",
    "    magnitude_BC = np.linalg.norm(BC)\n",
    "    \n",
    "    # Calculate the cosine of the angle using the dot product formula\n",
    "    cos_angle = dot_product / (magnitude_AB * magnitude_BC)\n",
    "    \n",
    "    # Calculate the angle in radians and then convert to degrees\n",
    "    angle = np.arccos(cos_angle)\n",
    "    angle_degrees = np.degrees(angle)\n",
    "    \n",
    "    return angle_degrees\n",
    "\n",
    "# Define function to process an image and calculate distances and angles\n",
    "def process_image(image_path):\n",
    "    image = cv2.imread(image_path)\n",
    "    if image is None:\n",
    "        return None\n",
    "    \n",
    "    # Resize the image to 1280x720 pixels\n",
    "    image_resized = cv2.resize(image, (1280, 720))\n",
    "    \n",
    "    # Convert the image to RGB\n",
    "    image_rgb = cv2.cvtColor(image_resized, cv2.COLOR_BGR2RGB)\n",
    "    \n",
    "    with mp_pose.Pose(static_image_mode=True, min_detection_confidence=0.5) as pose:\n",
    "        results = pose.process(image_rgb)\n",
    "        \n",
    "        if results.pose_landmarks:\n",
    "            landmarks = results.pose_landmarks.landmark\n",
    "            \n",
    "            # Get coordinates\n",
    "            nose = [landmarks[mp_pose.PoseLandmark.NOSE.value].x, landmarks[mp_pose.PoseLandmark.NOSE.value].y]\n",
    "            left_shoulder = [landmarks[mp_pose.PoseLandmark.LEFT_SHOULDER.value].x, landmarks[mp_pose.PoseLandmark.LEFT_SHOULDER.value].y]\n",
    "            left_ear = [landmarks[mp_pose.PoseLandmark.LEFT_EAR.value].x, landmarks[mp_pose.PoseLandmark.LEFT_EAR.value].y]\n",
    "            right_shoulder = [landmarks[mp_pose.PoseLandmark.RIGHT_SHOULDER.value].x, landmarks[mp_pose.PoseLandmark.RIGHT_SHOULDER.value].y]\n",
    "            right_ear = [landmarks[mp_pose.PoseLandmark.RIGHT_EAR.value].x, landmarks[mp_pose.PoseLandmark.RIGHT_EAR.value].y]\n",
    "            \n",
    "            # Calculate distances\n",
    "            dist_left_ear_shoulder = euclidean_distance(left_ear, left_shoulder)\n",
    "            dist_right_ear_shoulder = euclidean_distance(right_ear, right_shoulder)\n",
    "            shoulder_midpoint = calc_midpoint(left_shoulder, right_shoulder)\n",
    "            dist_shoulder_nose = euclidean_distance(shoulder_midpoint, nose)\n",
    "            \n",
    "            # Calculate angles\n",
    "            angle_right_ear_left_shoulder = calc_angle(right_ear, nose, left_shoulder)\n",
    "            angle_left_ear_right_shoulder = calc_angle(left_ear, nose, right_shoulder)\n",
    "            angle_nose_left_shoulder_right_shoulder = calc_angle(nose, left_shoulder, right_shoulder)\n",
    "            \n",
    "            return {\n",
    "                'dist_left_ear_shoulder': dist_left_ear_shoulder,\n",
    "                'dist_right_ear_shoulder': dist_right_ear_shoulder,\n",
    "                'dist_shoulder_nose': dist_shoulder_nose,\n",
    "                'angle_right_ear_left_shoulder': angle_right_ear_left_shoulder,\n",
    "                'angle_left_ear_right_shoulder': angle_left_ear_right_shoulder,\n",
    "                'angle_nose_left_shoulder_right_shoulder': angle_nose_left_shoulder_right_shoulder\n",
    "            }\n",
    "    return None\n",
    "\n",
    "# Path to the dataset\n",
    "dataset_path = r'C:\\Users\\hp\\Desktop\\FDV\\final project\\data'\n",
    "categories = os.listdir(dataset_path)\n",
    "\n",
    "# Initialize DataFrame\n",
    "data = []\n",
    "\n",
    "# Process each category (i.e., class)\n",
    "for category in categories:\n",
    "    category_path = os.path.join(dataset_path, category)\n",
    "    if os.path.isdir(category_path):\n",
    "        # Process each image in the category folder\n",
    "        for image_name in os.listdir(category_path):\n",
    "            image_path = os.path.join(category_path, image_name)\n",
    "            distances_angles = process_image(image_path)\n",
    "            if distances_angles is not None:\n",
    "                distances_angles['class'] = category\n",
    "                data.append(distances_angles)\n",
    "\n",
    "# Create DataFrame\n",
    "df = pd.DataFrame(data)\n",
    "\n",
    "# Save DataFrame to CSV\n",
    "df.to_csv('d&a720p.csv', index=False)\n",
    "\n",
    "print(\"Processing complete. Distances and angles saved to d&a720p.csv\")\n",
    "\n"
   ]
  },
  {
   "cell_type": "markdown",
   "id": "2624d4df-0c79-4e64-b60d-e68b7a320b73",
   "metadata": {},
   "source": [
    "# Checking the dataframe"
   ]
  },
  {
   "cell_type": "code",
   "execution_count": 2,
   "id": "c953d8a3-009d-4b46-a0c8-48fd01c615ec",
   "metadata": {},
   "outputs": [],
   "source": [
    "import pandas as pd\n",
    "df1= pd.read_csv('distances.csv')\n",
    "df2= pd.read_csv('distances720p.csv')\n",
    "df= pd.read_csv('d&a720p.csv')"
   ]
  },
  {
   "cell_type": "code",
   "execution_count": 3,
   "id": "a4e09269-6607-4292-8bfd-6569c315f2b0",
   "metadata": {},
   "outputs": [
    {
     "data": {
      "text/html": [
       "<div>\n",
       "<style scoped>\n",
       "    .dataframe tbody tr th:only-of-type {\n",
       "        vertical-align: middle;\n",
       "    }\n",
       "\n",
       "    .dataframe tbody tr th {\n",
       "        vertical-align: top;\n",
       "    }\n",
       "\n",
       "    .dataframe thead th {\n",
       "        text-align: right;\n",
       "    }\n",
       "</style>\n",
       "<table border=\"1\" class=\"dataframe\">\n",
       "  <thead>\n",
       "    <tr style=\"text-align: right;\">\n",
       "      <th></th>\n",
       "      <th>dist_left_ear_shoulder</th>\n",
       "      <th>dist_right_ear_shoulder</th>\n",
       "      <th>dist_shoulder_nose</th>\n",
       "      <th>angle_right_ear_left_shoulder</th>\n",
       "      <th>angle_left_ear_right_shoulder</th>\n",
       "      <th>angle_nose_left_shoulder_right_shoulder</th>\n",
       "      <th>class</th>\n",
       "    </tr>\n",
       "  </thead>\n",
       "  <tbody>\n",
       "    <tr>\n",
       "      <th>0</th>\n",
       "      <td>0.406014</td>\n",
       "      <td>0.366057</td>\n",
       "      <td>0.339777</td>\n",
       "      <td>132.613727</td>\n",
       "      <td>142.517720</td>\n",
       "      <td>54.173919</td>\n",
       "      <td>looks good</td>\n",
       "    </tr>\n",
       "    <tr>\n",
       "      <th>1</th>\n",
       "      <td>0.396291</td>\n",
       "      <td>0.378735</td>\n",
       "      <td>0.368228</td>\n",
       "      <td>110.847407</td>\n",
       "      <td>126.913825</td>\n",
       "      <td>62.189427</td>\n",
       "      <td>looks good</td>\n",
       "    </tr>\n",
       "    <tr>\n",
       "      <th>2</th>\n",
       "      <td>0.388994</td>\n",
       "      <td>0.390084</td>\n",
       "      <td>0.366477</td>\n",
       "      <td>114.835318</td>\n",
       "      <td>128.574101</td>\n",
       "      <td>64.146226</td>\n",
       "      <td>looks good</td>\n",
       "    </tr>\n",
       "    <tr>\n",
       "      <th>3</th>\n",
       "      <td>0.412523</td>\n",
       "      <td>0.375311</td>\n",
       "      <td>0.346405</td>\n",
       "      <td>133.607664</td>\n",
       "      <td>142.050794</td>\n",
       "      <td>54.530092</td>\n",
       "      <td>looks good</td>\n",
       "    </tr>\n",
       "    <tr>\n",
       "      <th>4</th>\n",
       "      <td>0.389295</td>\n",
       "      <td>0.371843</td>\n",
       "      <td>0.356220</td>\n",
       "      <td>112.792044</td>\n",
       "      <td>136.044076</td>\n",
       "      <td>63.523938</td>\n",
       "      <td>looks good</td>\n",
       "    </tr>\n",
       "  </tbody>\n",
       "</table>\n",
       "</div>"
      ],
      "text/plain": [
       "   dist_left_ear_shoulder  dist_right_ear_shoulder  dist_shoulder_nose  \\\n",
       "0                0.406014                 0.366057            0.339777   \n",
       "1                0.396291                 0.378735            0.368228   \n",
       "2                0.388994                 0.390084            0.366477   \n",
       "3                0.412523                 0.375311            0.346405   \n",
       "4                0.389295                 0.371843            0.356220   \n",
       "\n",
       "   angle_right_ear_left_shoulder  angle_left_ear_right_shoulder  \\\n",
       "0                     132.613727                     142.517720   \n",
       "1                     110.847407                     126.913825   \n",
       "2                     114.835318                     128.574101   \n",
       "3                     133.607664                     142.050794   \n",
       "4                     112.792044                     136.044076   \n",
       "\n",
       "   angle_nose_left_shoulder_right_shoulder       class  \n",
       "0                                54.173919  looks good  \n",
       "1                                62.189427  looks good  \n",
       "2                                64.146226  looks good  \n",
       "3                                54.530092  looks good  \n",
       "4                                63.523938  looks good  "
      ]
     },
     "execution_count": 3,
     "metadata": {},
     "output_type": "execute_result"
    }
   ],
   "source": [
    "df.head()"
   ]
  },
  {
   "cell_type": "code",
   "execution_count": 4,
   "id": "84f76b6d-faba-413e-9835-a61da3693937",
   "metadata": {},
   "outputs": [
    {
     "data": {
      "text/html": [
       "<div>\n",
       "<style scoped>\n",
       "    .dataframe tbody tr th:only-of-type {\n",
       "        vertical-align: middle;\n",
       "    }\n",
       "\n",
       "    .dataframe tbody tr th {\n",
       "        vertical-align: top;\n",
       "    }\n",
       "\n",
       "    .dataframe thead th {\n",
       "        text-align: right;\n",
       "    }\n",
       "</style>\n",
       "<table border=\"1\" class=\"dataframe\">\n",
       "  <thead>\n",
       "    <tr style=\"text-align: right;\">\n",
       "      <th></th>\n",
       "      <th>dist_left_ear_shoulder</th>\n",
       "      <th>dist_right_ear_shoulder</th>\n",
       "      <th>dist_shoulder_nose</th>\n",
       "      <th>class</th>\n",
       "    </tr>\n",
       "  </thead>\n",
       "  <tbody>\n",
       "    <tr>\n",
       "      <th>0</th>\n",
       "      <td>0.407351</td>\n",
       "      <td>0.386890</td>\n",
       "      <td>0.163316</td>\n",
       "      <td>looks good</td>\n",
       "    </tr>\n",
       "    <tr>\n",
       "      <th>1</th>\n",
       "      <td>0.376321</td>\n",
       "      <td>0.361742</td>\n",
       "      <td>0.156809</td>\n",
       "      <td>looks good</td>\n",
       "    </tr>\n",
       "    <tr>\n",
       "      <th>2</th>\n",
       "      <td>0.310170</td>\n",
       "      <td>0.321227</td>\n",
       "      <td>0.077766</td>\n",
       "      <td>looks good</td>\n",
       "    </tr>\n",
       "    <tr>\n",
       "      <th>3</th>\n",
       "      <td>0.386454</td>\n",
       "      <td>0.371440</td>\n",
       "      <td>0.163250</td>\n",
       "      <td>looks good</td>\n",
       "    </tr>\n",
       "    <tr>\n",
       "      <th>4</th>\n",
       "      <td>0.402035</td>\n",
       "      <td>0.370342</td>\n",
       "      <td>0.161379</td>\n",
       "      <td>looks good</td>\n",
       "    </tr>\n",
       "  </tbody>\n",
       "</table>\n",
       "</div>"
      ],
      "text/plain": [
       "   dist_left_ear_shoulder  dist_right_ear_shoulder  dist_shoulder_nose  \\\n",
       "0                0.407351                 0.386890            0.163316   \n",
       "1                0.376321                 0.361742            0.156809   \n",
       "2                0.310170                 0.321227            0.077766   \n",
       "3                0.386454                 0.371440            0.163250   \n",
       "4                0.402035                 0.370342            0.161379   \n",
       "\n",
       "        class  \n",
       "0  looks good  \n",
       "1  looks good  \n",
       "2  looks good  \n",
       "3  looks good  \n",
       "4  looks good  "
      ]
     },
     "execution_count": 4,
     "metadata": {},
     "output_type": "execute_result"
    }
   ],
   "source": [
    "df1.head()"
   ]
  },
  {
   "cell_type": "code",
   "execution_count": 5,
   "id": "539eb93e-3cfb-476e-b26b-22fbda809af9",
   "metadata": {},
   "outputs": [
    {
     "data": {
      "text/html": [
       "<div>\n",
       "<style scoped>\n",
       "    .dataframe tbody tr th:only-of-type {\n",
       "        vertical-align: middle;\n",
       "    }\n",
       "\n",
       "    .dataframe tbody tr th {\n",
       "        vertical-align: top;\n",
       "    }\n",
       "\n",
       "    .dataframe thead th {\n",
       "        text-align: right;\n",
       "    }\n",
       "</style>\n",
       "<table border=\"1\" class=\"dataframe\">\n",
       "  <thead>\n",
       "    <tr style=\"text-align: right;\">\n",
       "      <th></th>\n",
       "      <th>dist_left_ear_shoulder</th>\n",
       "      <th>dist_right_ear_shoulder</th>\n",
       "      <th>dist_shoulder_nose</th>\n",
       "      <th>class</th>\n",
       "    </tr>\n",
       "  </thead>\n",
       "  <tbody>\n",
       "    <tr>\n",
       "      <th>0</th>\n",
       "      <td>0.406014</td>\n",
       "      <td>0.366057</td>\n",
       "      <td>0.158349</td>\n",
       "      <td>looks good</td>\n",
       "    </tr>\n",
       "    <tr>\n",
       "      <th>1</th>\n",
       "      <td>0.396291</td>\n",
       "      <td>0.378735</td>\n",
       "      <td>0.184054</td>\n",
       "      <td>looks good</td>\n",
       "    </tr>\n",
       "    <tr>\n",
       "      <th>2</th>\n",
       "      <td>0.388994</td>\n",
       "      <td>0.390084</td>\n",
       "      <td>0.181476</td>\n",
       "      <td>looks good</td>\n",
       "    </tr>\n",
       "    <tr>\n",
       "      <th>3</th>\n",
       "      <td>0.412523</td>\n",
       "      <td>0.375311</td>\n",
       "      <td>0.161365</td>\n",
       "      <td>looks good</td>\n",
       "    </tr>\n",
       "    <tr>\n",
       "      <th>4</th>\n",
       "      <td>0.389295</td>\n",
       "      <td>0.371843</td>\n",
       "      <td>0.175464</td>\n",
       "      <td>looks good</td>\n",
       "    </tr>\n",
       "  </tbody>\n",
       "</table>\n",
       "</div>"
      ],
      "text/plain": [
       "   dist_left_ear_shoulder  dist_right_ear_shoulder  dist_shoulder_nose  \\\n",
       "0                0.406014                 0.366057            0.158349   \n",
       "1                0.396291                 0.378735            0.184054   \n",
       "2                0.388994                 0.390084            0.181476   \n",
       "3                0.412523                 0.375311            0.161365   \n",
       "4                0.389295                 0.371843            0.175464   \n",
       "\n",
       "        class  \n",
       "0  looks good  \n",
       "1  looks good  \n",
       "2  looks good  \n",
       "3  looks good  \n",
       "4  looks good  "
      ]
     },
     "execution_count": 5,
     "metadata": {},
     "output_type": "execute_result"
    }
   ],
   "source": [
    "df2.head()"
   ]
  },
  {
   "cell_type": "code",
   "execution_count": 6,
   "id": "54bd89af-6c2d-4c87-b04c-faba98220c2e",
   "metadata": {},
   "outputs": [
    {
     "data": {
      "text/html": [
       "<div>\n",
       "<style scoped>\n",
       "    .dataframe tbody tr th:only-of-type {\n",
       "        vertical-align: middle;\n",
       "    }\n",
       "\n",
       "    .dataframe tbody tr th {\n",
       "        vertical-align: top;\n",
       "    }\n",
       "\n",
       "    .dataframe thead th {\n",
       "        text-align: right;\n",
       "    }\n",
       "</style>\n",
       "<table border=\"1\" class=\"dataframe\">\n",
       "  <thead>\n",
       "    <tr style=\"text-align: right;\">\n",
       "      <th></th>\n",
       "      <th>dist_left_ear_shoulder</th>\n",
       "      <th>dist_right_ear_shoulder</th>\n",
       "      <th>dist_shoulder_nose</th>\n",
       "      <th>angle_right_ear_left_shoulder</th>\n",
       "      <th>angle_left_ear_right_shoulder</th>\n",
       "      <th>angle_nose_left_shoulder_right_shoulder</th>\n",
       "    </tr>\n",
       "  </thead>\n",
       "  <tbody>\n",
       "    <tr>\n",
       "      <th>count</th>\n",
       "      <td>5033.000000</td>\n",
       "      <td>5033.000000</td>\n",
       "      <td>5033.000000</td>\n",
       "      <td>5033.000000</td>\n",
       "      <td>5033.000000</td>\n",
       "      <td>5033.000000</td>\n",
       "    </tr>\n",
       "    <tr>\n",
       "      <th>mean</th>\n",
       "      <td>0.371893</td>\n",
       "      <td>0.376761</td>\n",
       "      <td>0.324924</td>\n",
       "      <td>134.318443</td>\n",
       "      <td>133.548073</td>\n",
       "      <td>57.644135</td>\n",
       "    </tr>\n",
       "    <tr>\n",
       "      <th>std</th>\n",
       "      <td>0.103298</td>\n",
       "      <td>0.106649</td>\n",
       "      <td>0.113711</td>\n",
       "      <td>27.399266</td>\n",
       "      <td>25.946578</td>\n",
       "      <td>13.843421</td>\n",
       "    </tr>\n",
       "    <tr>\n",
       "      <th>min</th>\n",
       "      <td>0.003687</td>\n",
       "      <td>0.047137</td>\n",
       "      <td>0.002842</td>\n",
       "      <td>0.906282</td>\n",
       "      <td>9.763519</td>\n",
       "      <td>0.033331</td>\n",
       "    </tr>\n",
       "    <tr>\n",
       "      <th>25%</th>\n",
       "      <td>0.277103</td>\n",
       "      <td>0.303664</td>\n",
       "      <td>0.229710</td>\n",
       "      <td>116.143407</td>\n",
       "      <td>120.269389</td>\n",
       "      <td>52.936903</td>\n",
       "    </tr>\n",
       "    <tr>\n",
       "      <th>50%</th>\n",
       "      <td>0.391818</td>\n",
       "      <td>0.380292</td>\n",
       "      <td>0.351909</td>\n",
       "      <td>137.250010</td>\n",
       "      <td>132.582227</td>\n",
       "      <td>59.849752</td>\n",
       "    </tr>\n",
       "    <tr>\n",
       "      <th>75%</th>\n",
       "      <td>0.437602</td>\n",
       "      <td>0.453690</td>\n",
       "      <td>0.419189</td>\n",
       "      <td>154.102504</td>\n",
       "      <td>152.744089</td>\n",
       "      <td>65.342963</td>\n",
       "    </tr>\n",
       "    <tr>\n",
       "      <th>max</th>\n",
       "      <td>0.693497</td>\n",
       "      <td>0.699253</td>\n",
       "      <td>0.592848</td>\n",
       "      <td>179.933044</td>\n",
       "      <td>179.981854</td>\n",
       "      <td>109.523406</td>\n",
       "    </tr>\n",
       "  </tbody>\n",
       "</table>\n",
       "</div>"
      ],
      "text/plain": [
       "       dist_left_ear_shoulder  dist_right_ear_shoulder  dist_shoulder_nose  \\\n",
       "count             5033.000000              5033.000000         5033.000000   \n",
       "mean                 0.371893                 0.376761            0.324924   \n",
       "std                  0.103298                 0.106649            0.113711   \n",
       "min                  0.003687                 0.047137            0.002842   \n",
       "25%                  0.277103                 0.303664            0.229710   \n",
       "50%                  0.391818                 0.380292            0.351909   \n",
       "75%                  0.437602                 0.453690            0.419189   \n",
       "max                  0.693497                 0.699253            0.592848   \n",
       "\n",
       "       angle_right_ear_left_shoulder  angle_left_ear_right_shoulder  \\\n",
       "count                    5033.000000                    5033.000000   \n",
       "mean                      134.318443                     133.548073   \n",
       "std                        27.399266                      25.946578   \n",
       "min                         0.906282                       9.763519   \n",
       "25%                       116.143407                     120.269389   \n",
       "50%                       137.250010                     132.582227   \n",
       "75%                       154.102504                     152.744089   \n",
       "max                       179.933044                     179.981854   \n",
       "\n",
       "       angle_nose_left_shoulder_right_shoulder  \n",
       "count                              5033.000000  \n",
       "mean                                 57.644135  \n",
       "std                                  13.843421  \n",
       "min                                   0.033331  \n",
       "25%                                  52.936903  \n",
       "50%                                  59.849752  \n",
       "75%                                  65.342963  \n",
       "max                                 109.523406  "
      ]
     },
     "execution_count": 6,
     "metadata": {},
     "output_type": "execute_result"
    }
   ],
   "source": [
    "df.describe()"
   ]
  },
  {
   "cell_type": "code",
   "execution_count": 7,
   "id": "5bc0c0a9-504e-4ab5-8012-82b0ff84f07f",
   "metadata": {},
   "outputs": [
    {
     "data": {
      "text/html": [
       "<div>\n",
       "<style scoped>\n",
       "    .dataframe tbody tr th:only-of-type {\n",
       "        vertical-align: middle;\n",
       "    }\n",
       "\n",
       "    .dataframe tbody tr th {\n",
       "        vertical-align: top;\n",
       "    }\n",
       "\n",
       "    .dataframe thead th {\n",
       "        text-align: right;\n",
       "    }\n",
       "</style>\n",
       "<table border=\"1\" class=\"dataframe\">\n",
       "  <thead>\n",
       "    <tr style=\"text-align: right;\">\n",
       "      <th></th>\n",
       "      <th>dist_left_ear_shoulder</th>\n",
       "      <th>dist_right_ear_shoulder</th>\n",
       "      <th>dist_shoulder_nose</th>\n",
       "    </tr>\n",
       "  </thead>\n",
       "  <tbody>\n",
       "    <tr>\n",
       "      <th>count</th>\n",
       "      <td>4658.000000</td>\n",
       "      <td>4658.000000</td>\n",
       "      <td>4658.000000</td>\n",
       "    </tr>\n",
       "    <tr>\n",
       "      <th>mean</th>\n",
       "      <td>0.427320</td>\n",
       "      <td>0.431572</td>\n",
       "      <td>0.181393</td>\n",
       "    </tr>\n",
       "    <tr>\n",
       "      <th>std</th>\n",
       "      <td>0.075929</td>\n",
       "      <td>0.077738</td>\n",
       "      <td>0.041713</td>\n",
       "    </tr>\n",
       "    <tr>\n",
       "      <th>min</th>\n",
       "      <td>0.148459</td>\n",
       "      <td>0.142539</td>\n",
       "      <td>0.003605</td>\n",
       "    </tr>\n",
       "    <tr>\n",
       "      <th>25%</th>\n",
       "      <td>0.383386</td>\n",
       "      <td>0.384720</td>\n",
       "      <td>0.161719</td>\n",
       "    </tr>\n",
       "    <tr>\n",
       "      <th>50%</th>\n",
       "      <td>0.424903</td>\n",
       "      <td>0.433191</td>\n",
       "      <td>0.188271</td>\n",
       "    </tr>\n",
       "    <tr>\n",
       "      <th>75%</th>\n",
       "      <td>0.476648</td>\n",
       "      <td>0.479317</td>\n",
       "      <td>0.208211</td>\n",
       "    </tr>\n",
       "    <tr>\n",
       "      <th>max</th>\n",
       "      <td>0.661066</td>\n",
       "      <td>0.669330</td>\n",
       "      <td>0.292426</td>\n",
       "    </tr>\n",
       "  </tbody>\n",
       "</table>\n",
       "</div>"
      ],
      "text/plain": [
       "       dist_left_ear_shoulder  dist_right_ear_shoulder  dist_shoulder_nose\n",
       "count             4658.000000              4658.000000         4658.000000\n",
       "mean                 0.427320                 0.431572            0.181393\n",
       "std                  0.075929                 0.077738            0.041713\n",
       "min                  0.148459                 0.142539            0.003605\n",
       "25%                  0.383386                 0.384720            0.161719\n",
       "50%                  0.424903                 0.433191            0.188271\n",
       "75%                  0.476648                 0.479317            0.208211\n",
       "max                  0.661066                 0.669330            0.292426"
      ]
     },
     "execution_count": 7,
     "metadata": {},
     "output_type": "execute_result"
    }
   ],
   "source": [
    "df1.describe()\n"
   ]
  },
  {
   "cell_type": "code",
   "execution_count": 8,
   "id": "77160c12-bcb3-48ec-b224-54b91e98526f",
   "metadata": {},
   "outputs": [
    {
     "data": {
      "text/html": [
       "<div>\n",
       "<style scoped>\n",
       "    .dataframe tbody tr th:only-of-type {\n",
       "        vertical-align: middle;\n",
       "    }\n",
       "\n",
       "    .dataframe tbody tr th {\n",
       "        vertical-align: top;\n",
       "    }\n",
       "\n",
       "    .dataframe thead th {\n",
       "        text-align: right;\n",
       "    }\n",
       "</style>\n",
       "<table border=\"1\" class=\"dataframe\">\n",
       "  <thead>\n",
       "    <tr style=\"text-align: right;\">\n",
       "      <th></th>\n",
       "      <th>dist_left_ear_shoulder</th>\n",
       "      <th>dist_right_ear_shoulder</th>\n",
       "      <th>dist_shoulder_nose</th>\n",
       "    </tr>\n",
       "  </thead>\n",
       "  <tbody>\n",
       "    <tr>\n",
       "      <th>count</th>\n",
       "      <td>5033.000000</td>\n",
       "      <td>5033.000000</td>\n",
       "      <td>5033.000000</td>\n",
       "    </tr>\n",
       "    <tr>\n",
       "      <th>mean</th>\n",
       "      <td>0.371893</td>\n",
       "      <td>0.376761</td>\n",
       "      <td>0.152306</td>\n",
       "    </tr>\n",
       "    <tr>\n",
       "      <th>std</th>\n",
       "      <td>0.103298</td>\n",
       "      <td>0.106649</td>\n",
       "      <td>0.062568</td>\n",
       "    </tr>\n",
       "    <tr>\n",
       "      <th>min</th>\n",
       "      <td>0.003687</td>\n",
       "      <td>0.047137</td>\n",
       "      <td>0.001797</td>\n",
       "    </tr>\n",
       "    <tr>\n",
       "      <th>25%</th>\n",
       "      <td>0.277103</td>\n",
       "      <td>0.303664</td>\n",
       "      <td>0.100476</td>\n",
       "    </tr>\n",
       "    <tr>\n",
       "      <th>50%</th>\n",
       "      <td>0.391818</td>\n",
       "      <td>0.380292</td>\n",
       "      <td>0.161799</td>\n",
       "    </tr>\n",
       "    <tr>\n",
       "      <th>75%</th>\n",
       "      <td>0.437602</td>\n",
       "      <td>0.453690</td>\n",
       "      <td>0.203876</td>\n",
       "    </tr>\n",
       "    <tr>\n",
       "      <th>max</th>\n",
       "      <td>0.693497</td>\n",
       "      <td>0.699253</td>\n",
       "      <td>0.308588</td>\n",
       "    </tr>\n",
       "  </tbody>\n",
       "</table>\n",
       "</div>"
      ],
      "text/plain": [
       "       dist_left_ear_shoulder  dist_right_ear_shoulder  dist_shoulder_nose\n",
       "count             5033.000000              5033.000000         5033.000000\n",
       "mean                 0.371893                 0.376761            0.152306\n",
       "std                  0.103298                 0.106649            0.062568\n",
       "min                  0.003687                 0.047137            0.001797\n",
       "25%                  0.277103                 0.303664            0.100476\n",
       "50%                  0.391818                 0.380292            0.161799\n",
       "75%                  0.437602                 0.453690            0.203876\n",
       "max                  0.693497                 0.699253            0.308588"
      ]
     },
     "execution_count": 8,
     "metadata": {},
     "output_type": "execute_result"
    }
   ],
   "source": [
    "df2.describe()"
   ]
  },
  {
   "cell_type": "markdown",
   "id": "834f2c6e-828d-44b8-8168-2a1c58bac7d4",
   "metadata": {},
   "source": [
    "# Encoding Y"
   ]
  },
  {
   "cell_type": "code",
   "execution_count": 9,
   "id": "0ac506ab-840b-449a-b5b3-c40d6e2cf7cf",
   "metadata": {},
   "outputs": [],
   "source": [
    "from sklearn.preprocessing import LabelEncoder\n",
    "label_encoder = LabelEncoder()\n",
    "df1['class_encoded'] = label_encoder.fit_transform(df1['class'])\n",
    "df2['class_encoded'] = label_encoder.fit_transform(df2['class'])\n",
    "df['class_encoded'] = label_encoder.fit_transform(df['class'])"
   ]
  },
  {
   "cell_type": "code",
   "execution_count": 10,
   "id": "5f8c6b99-7cd6-4483-9f74-9b149257ca40",
   "metadata": {},
   "outputs": [
    {
     "name": "stdout",
     "output_type": "stream",
     "text": [
      "                                         dist_left_ear_shoulder  \\\n",
      "dist_left_ear_shoulder                                 1.000000   \n",
      "dist_right_ear_shoulder                                0.796761   \n",
      "dist_shoulder_nose                                     0.889113   \n",
      "angle_right_ear_left_shoulder                         -0.359363   \n",
      "angle_left_ear_right_shoulder                         -0.084581   \n",
      "angle_nose_left_shoulder_right_shoulder                0.362441   \n",
      "class_encoded                                         -0.184864   \n",
      "\n",
      "                                         dist_right_ear_shoulder  \\\n",
      "dist_left_ear_shoulder                                  0.796761   \n",
      "dist_right_ear_shoulder                                 1.000000   \n",
      "dist_shoulder_nose                                      0.870197   \n",
      "angle_right_ear_left_shoulder                          -0.172088   \n",
      "angle_left_ear_right_shoulder                          -0.248405   \n",
      "angle_nose_left_shoulder_right_shoulder                 0.608484   \n",
      "class_encoded                                          -0.185201   \n",
      "\n",
      "                                         dist_shoulder_nose  \\\n",
      "dist_left_ear_shoulder                             0.889113   \n",
      "dist_right_ear_shoulder                            0.870197   \n",
      "dist_shoulder_nose                                 1.000000   \n",
      "angle_right_ear_left_shoulder                     -0.502168   \n",
      "angle_left_ear_right_shoulder                     -0.398701   \n",
      "angle_nose_left_shoulder_right_shoulder            0.679102   \n",
      "class_encoded                                     -0.225086   \n",
      "\n",
      "                                         angle_right_ear_left_shoulder  \\\n",
      "dist_left_ear_shoulder                                       -0.359363   \n",
      "dist_right_ear_shoulder                                      -0.172088   \n",
      "dist_shoulder_nose                                           -0.502168   \n",
      "angle_right_ear_left_shoulder                                 1.000000   \n",
      "angle_left_ear_right_shoulder                                 0.567560   \n",
      "angle_nose_left_shoulder_right_shoulder                      -0.373149   \n",
      "class_encoded                                                 0.032314   \n",
      "\n",
      "                                         angle_left_ear_right_shoulder  \\\n",
      "dist_left_ear_shoulder                                       -0.084581   \n",
      "dist_right_ear_shoulder                                      -0.248405   \n",
      "dist_shoulder_nose                                           -0.398701   \n",
      "angle_right_ear_left_shoulder                                 0.567560   \n",
      "angle_left_ear_right_shoulder                                 1.000000   \n",
      "angle_nose_left_shoulder_right_shoulder                      -0.458112   \n",
      "class_encoded                                                 0.013588   \n",
      "\n",
      "                                         angle_nose_left_shoulder_right_shoulder  \\\n",
      "dist_left_ear_shoulder                                                  0.362441   \n",
      "dist_right_ear_shoulder                                                 0.608484   \n",
      "dist_shoulder_nose                                                      0.679102   \n",
      "angle_right_ear_left_shoulder                                          -0.373149   \n",
      "angle_left_ear_right_shoulder                                          -0.458112   \n",
      "angle_nose_left_shoulder_right_shoulder                                 1.000000   \n",
      "class_encoded                                                          -0.198938   \n",
      "\n",
      "                                         class_encoded  \n",
      "dist_left_ear_shoulder                       -0.184864  \n",
      "dist_right_ear_shoulder                      -0.185201  \n",
      "dist_shoulder_nose                           -0.225086  \n",
      "angle_right_ear_left_shoulder                 0.032314  \n",
      "angle_left_ear_right_shoulder                 0.013588  \n",
      "angle_nose_left_shoulder_right_shoulder      -0.198938  \n",
      "class_encoded                                 1.000000  \n"
     ]
    },
    {
     "data": {
      "image/png": "[encoded data removed]",
      "text/plain": [
       "<Figure size 1000x800 with 2 Axes>"
      ]
     },
     "metadata": {},
     "output_type": "display_data"
    }
   ],
   "source": [
    "import seaborn as sns\n",
    "import matplotlib.pyplot as plt\n",
    "\n",
    "selected_columns = ['dist_left_ear_shoulder','dist_right_ear_shoulder','dist_shoulder_nose','angle_right_ear_left_shoulder','angle_left_ear_right_shoulder','angle_nose_left_shoulder_right_shoulder','class_encoded']\n",
    "df_selected = df[selected_columns]\n",
    "correlation_matrix = df_selected.corr()\n",
    "\n",
    "# Print the correlation matrix\n",
    "print(correlation_matrix)\n",
    "\n",
    "# Set up the matplotlib figure\n",
    "plt.figure(figsize=(10, 8))\n",
    "\n",
    "# Draw the heatmap with the correlation matrix\n",
    "sns.heatmap(correlation_matrix, annot=True, cmap='coolwarm', center=0)\n",
    "\n",
    "# Display the plot\n",
    "plt.show()"
   ]
  },
  {
   "cell_type": "markdown",
   "id": "b33cf4a2-4275-4d5b-a386-dc765c1ab3e3",
   "metadata": {},
   "source": [
    "# Applying ML models"
   ]
  },
  {
   "cell_type": "markdown",
   "id": "c7149a46-990e-4795-9429-e1f54b01e1da",
   "metadata": {},
   "source": [
    "## SVC"
   ]
  },
  {
   "cell_type": "code",
   "execution_count": 11,
   "id": "6018e86d-4336-4105-add4-c7b9f708f9bd",
   "metadata": {},
   "outputs": [
    {
     "name": "stdout",
     "output_type": "stream",
     "text": [
      "Accuracy: 0.6216484607745779\n",
      "Classification Report:\n",
      "              precision    recall  f1-score   support\n",
      "\n",
      "           0       0.57      0.90      0.70       377\n",
      "           1       0.75      0.62      0.68       332\n",
      "           2       0.59      0.27      0.37       298\n",
      "\n",
      "    accuracy                           0.62      1007\n",
      "   macro avg       0.64      0.60      0.58      1007\n",
      "weighted avg       0.64      0.62      0.59      1007\n",
      "\n"
     ]
    },
    {
     "data": {
      "image/png": "[encoded data removed]",
      "text/plain": [
       "<Figure size 800x600 with 2 Axes>"
      ]
     },
     "metadata": {},
     "output_type": "display_data"
    }
   ],
   "source": [
    "from sklearn.model_selection import train_test_split\n",
    "from sklearn.svm import SVC\n",
    "from sklearn.metrics import accuracy_score, classification_report\n",
    "from sklearn.metrics import confusion_matrix\n",
    "\n",
    "X = df[['dist_left_ear_shoulder','dist_right_ear_shoulder','dist_shoulder_nose','angle_nose_left_shoulder_right_shoulder']]\n",
    "y = df['class_encoded']\n",
    "\n",
    "# Split the dataset into training and testing sets\n",
    "X_train, X_test, y_train, y_test = train_test_split(X, y, test_size=0.2, random_state=42)\n",
    "\n",
    "# Create an SVM classifier\n",
    "svm_classifier = SVC(kernel='linear', C=1.0, random_state=42)\n",
    "\n",
    "# Train the classifier\n",
    "svm_classifier.fit(X_train, y_train)\n",
    "\n",
    "# Predict on the test set\n",
    "y_pred = svm_classifier.predict(X_test)\n",
    "\n",
    "# Calculate accuracy\n",
    "accuracy = accuracy_score(y_test, y_pred)\n",
    "print(\"Accuracy:\", accuracy)\n",
    "\n",
    "# Display classification report\n",
    "print(\"Classification Report:\")\n",
    "print(classification_report(y_test, y_pred))\n",
    "\n",
    "# Generate confusion matrix\n",
    "conf_matrix = confusion_matrix(y_test, y_pred)\n",
    "\n",
    "# Display confusion matrix\n",
    "plt.figure(figsize=(8, 6))\n",
    "sns.heatmap(conf_matrix, annot=True, cmap='Blues', fmt='d')\n",
    "plt.xlabel('Predicted labels')\n",
    "plt.ylabel('True labels')\n",
    "plt.title('Confusion Matrix')\n",
    "plt.show()\n"
   ]
  },
  {
   "cell_type": "code",
   "execution_count": 11,
   "id": "e1b00e6e-eef6-416a-ab3d-3bb3ff10f3ae",
   "metadata": {},
   "outputs": [
    {
     "name": "stdout",
     "output_type": "stream",
     "text": [
      "Accuracy: 0.5901639344262295\n"
     ]
    }
   ],
   "source": [
    "y_pred = svm_classifier.predict(X_train)\n",
    "accuracy = accuracy_score(y_train, y_pred)\n",
    "print(\"Accuracy:\", accuracy)"
   ]
  },
  {
   "cell_type": "markdown",
   "id": "a9867418-c0d3-4839-a4ff-705c8d669ffa",
   "metadata": {},
   "source": [
    "## Random Forest Classifier"
   ]
  },
  {
   "cell_type": "code",
   "execution_count": 13,
   "id": "d96361f5-c65c-4947-9fe7-c7b726902c6d",
   "metadata": {},
   "outputs": [
    {
     "name": "stdout",
     "output_type": "stream",
     "text": [
      "Accuracy: 0.8987090367428004\n",
      "Classification Report:\n",
      "              precision    recall  f1-score   support\n",
      "\n",
      "           0       0.95      0.95      0.95       377\n",
      "           1       0.85      0.89      0.87       332\n",
      "           2       0.89      0.83      0.86       298\n",
      "\n",
      "    accuracy                           0.90      1007\n",
      "   macro avg       0.90      0.89      0.89      1007\n",
      "weighted avg       0.90      0.90      0.90      1007\n",
      "\n"
     ]
    },
    {
     "data": {
      "image/png": "[encoded data removed]",
      "text/plain": [
       "<Figure size 800x600 with 2 Axes>"
      ]
     },
     "metadata": {},
     "output_type": "display_data"
    }
   ],
   "source": [
    "from sklearn.ensemble import RandomForestClassifier\n",
    "\n",
    "# Load the dataset\n",
    "# Assuming df contains your dataset\n",
    "X = df[['dist_left_ear_shoulder','dist_right_ear_shoulder','dist_shoulder_nose','angle_nose_left_shoulder_right_shoulder']]\n",
    "y = df['class_encoded']\n",
    "\n",
    "# Split the dataset into training and testing sets\n",
    "X_train, X_test, y_train, y_test = train_test_split(X, y, test_size=0.2, random_state=42)\n",
    "\n",
    "# Create a Random Forest classifier\n",
    "rf_classifier = RandomForestClassifier(n_estimators=100, random_state=42)\n",
    "\n",
    "# Train the classifier\n",
    "rf_classifier.fit(X_train, y_train)\n",
    "\n",
    "# Predict on the test set\n",
    "y_pred = rf_classifier.predict(X_test)\n",
    "\n",
    "# Calculate accuracy\n",
    "accuracy = accuracy_score(y_test, y_pred)\n",
    "print(\"Accuracy:\", accuracy)\n",
    "\n",
    "# Display classification report\n",
    "print(\"Classification Report:\")\n",
    "print(classification_report(y_test, y_pred))\n",
    "\n",
    "# Generate confusion matrix\n",
    "conf_matrix = confusion_matrix(y_test, y_pred)\n",
    "\n",
    "# Display confusion matrix\n",
    "plt.figure(figsize=(8, 6))\n",
    "sns.heatmap(conf_matrix, annot=True, cmap='Blues', fmt='d')\n",
    "plt.xlabel('Predicted labels')\n",
    "plt.ylabel('True labels')\n",
    "plt.title('Confusion Matrix')\n",
    "plt.show()\n"
   ]
  },
  {
   "cell_type": "code",
   "execution_count": 14,
   "id": "53ba785f-04ce-4f67-83ed-e7d793961d10",
   "metadata": {},
   "outputs": [
    {
     "name": "stdout",
     "output_type": "stream",
     "text": [
      "Accuracy: 0.9997516145057128\n"
     ]
    }
   ],
   "source": [
    "y_pred = rf_classifier.predict(X_train)\n",
    "accuracy = accuracy_score(y_train, y_pred)\n",
    "print(\"Accuracy:\", accuracy)"
   ]
  },
  {
   "cell_type": "markdown",
   "id": "c7f18796-62e6-4604-9507-81880f19ce98",
   "metadata": {},
   "source": [
    "## Gradient Boosting"
   ]
  },
  {
   "cell_type": "code",
   "execution_count": 15,
   "id": "e80bd2cb-dfdc-4e34-8a5d-c9cc07dbda6b",
   "metadata": {},
   "outputs": [
    {
     "name": "stdout",
     "output_type": "stream",
     "text": [
      "Accuracy: 0.8599801390268124\n",
      "Classification Report:\n",
      "              precision    recall  f1-score   support\n",
      "\n",
      "           0       0.85      0.96      0.90       377\n",
      "           1       0.84      0.86      0.85       332\n",
      "           2       0.91      0.73      0.81       298\n",
      "\n",
      "    accuracy                           0.86      1007\n",
      "   macro avg       0.87      0.85      0.85      1007\n",
      "weighted avg       0.86      0.86      0.86      1007\n",
      "\n"
     ]
    },
    {
     "data": {
      "image/png": "[encoded data removed]",
      "text/plain": [
       "<Figure size 800x600 with 2 Axes>"
      ]
     },
     "metadata": {},
     "output_type": "display_data"
    }
   ],
   "source": [
    "from sklearn.ensemble import GradientBoostingClassifier\n",
    "\n",
    "# Load the dataset\n",
    "# Assuming df contains your dataset\n",
    "X = df[['dist_left_ear_shoulder','dist_right_ear_shoulder','dist_shoulder_nose','angle_nose_left_shoulder_right_shoulder']]\n",
    "y = df['class_encoded']\n",
    "\n",
    "# Split the dataset into training and testing sets\n",
    "X_train, X_test, y_train, y_test = train_test_split(X, y, test_size=0.2, random_state=42)\n",
    "\n",
    "# Create a Gradient Boosting classifier\n",
    "gb_classifier = GradientBoostingClassifier(n_estimators=100, learning_rate=0.1, random_state=42)\n",
    "\n",
    "# Train the classifier\n",
    "gb_classifier.fit(X_train, y_train)\n",
    "\n",
    "# Predict on the test set\n",
    "y_pred = gb_classifier.predict(X_test)\n",
    "\n",
    "# Calculate accuracy\n",
    "accuracy = accuracy_score(y_test, y_pred)\n",
    "print(\"Accuracy:\", accuracy)\n",
    "\n",
    "# Display classification report\n",
    "print(\"Classification Report:\")\n",
    "print(classification_report(y_test, y_pred))\n",
    "\n",
    "# Generate confusion matrix\n",
    "conf_matrix = confusion_matrix(y_test, y_pred)\n",
    "\n",
    "# Display confusion matrix\n",
    "plt.figure(figsize=(8, 6))\n",
    "sns.heatmap(conf_matrix, annot=True, cmap='Blues', fmt='d')\n",
    "plt.xlabel('Predicted labels')\n",
    "plt.ylabel('True labels')\n",
    "plt.title('Confusion Matrix')\n",
    "plt.show()\n"
   ]
  },
  {
   "cell_type": "code",
   "execution_count": 16,
   "id": "082a2614-9ae5-4596-91c0-840a56743989",
   "metadata": {},
   "outputs": [
    {
     "name": "stdout",
     "output_type": "stream",
     "text": [
      "Accuracy: 0.8879781420765027\n"
     ]
    }
   ],
   "source": [
    "y_pred = gb_classifier.predict(X_train)\n",
    "accuracy = accuracy_score(y_train, y_pred)\n",
    "print(\"Accuracy:\", accuracy)"
   ]
  },
  {
   "cell_type": "code",
   "execution_count": 17,
   "id": "32e0572f-f423-4d82-8cf5-b9ee75012552",
   "metadata": {},
   "outputs": [],
   "source": [
    "import pickle\n",
    "\n",
    "with open('GBall.pkl', 'wb') as f:\n",
    "    pickle.dump(gb_classifier, f)"
   ]
  },
  {
   "cell_type": "markdown",
   "id": "4dfb6a75-39d8-4dd0-8b0b-c139988d1087",
   "metadata": {},
   "source": [
    "## K nearest neighbour classifier"
   ]
  },
  {
   "cell_type": "code",
   "execution_count": 25,
   "id": "c0ddd3e0-a55f-4d24-867b-526f042b4524",
   "metadata": {},
   "outputs": [
    {
     "name": "stdout",
     "output_type": "stream",
     "text": [
      "Accuracy: 0.6742800397219464\n",
      "Classification Report:\n",
      "              precision    recall  f1-score   support\n",
      "\n",
      "           0       0.68      0.90      0.78       377\n",
      "           1       0.69      0.62      0.65       332\n",
      "           2       0.64      0.45      0.53       298\n",
      "\n",
      "    accuracy                           0.67      1007\n",
      "   macro avg       0.67      0.66      0.65      1007\n",
      "weighted avg       0.67      0.67      0.66      1007\n",
      "\n"
     ]
    },
    {
     "data": {
      "image/png": "[encoded data removed]",
      "text/plain": [
       "<Figure size 800x600 with 2 Axes>"
      ]
     },
     "metadata": {},
     "output_type": "display_data"
    }
   ],
   "source": [
    "from sklearn.neighbors import KNeighborsClassifier\n",
    "\n",
    "# Load the dataset\n",
    "# Assuming df contains your dataset\n",
    "X = df[['dist_left_ear_shoulder','dist_right_ear_shoulder','dist_shoulder_nose','angle_nose_left_shoulder_right_shoulder']]\n",
    "y = df['class_encoded']\n",
    "\n",
    "# Split the dataset into training and testing sets\n",
    "X_train, X_test, y_train, y_test = train_test_split(X, y, test_size=0.2, random_state=42)\n",
    "\n",
    "# Create a K-Nearest Neighbors classifier\n",
    "knn_classifier = KNeighborsClassifier(n_neighbors=5)\n",
    "\n",
    "# Train the classifier\n",
    "knn_classifier.fit(X_train, y_train)\n",
    "\n",
    "# Predict on the test set\n",
    "y_pred = knn_classifier.predict(X_test)\n",
    "\n",
    "# Calculate accuracy\n",
    "accuracy = accuracy_score(y_test, y_pred)\n",
    "print(\"Accuracy:\", accuracy)\n",
    "\n",
    "# Display classification report\n",
    "print(\"Classification Report:\")\n",
    "print(classification_report(y_test, y_pred))\n",
    "\n",
    "# Generate confusion matrix\n",
    "conf_matrix = confusion_matrix(y_test, y_pred)\n",
    "\n",
    "# Display confusion matrix\n",
    "plt.figure(figsize=(8, 6))\n",
    "sns.heatmap(conf_matrix, annot=True, cmap='Blues', fmt='d')\n",
    "plt.xlabel('Predicted labels')\n",
    "plt.ylabel('True labels')\n",
    "plt.title('Confusion Matrix')\n",
    "plt.show()\n"
   ]
  },
  {
   "cell_type": "code",
   "execution_count": 19,
   "id": "28f542b3-66c8-445c-a690-da5af73dee41",
   "metadata": {},
   "outputs": [
    {
     "name": "stdout",
     "output_type": "stream",
     "text": [
      "Accuracy: 0.7647789369100845\n"
     ]
    }
   ],
   "source": [
    "y_pred = knn_classifier.predict(X_train)\n",
    "accuracy = accuracy_score(y_train, y_pred)\n",
    "print(\"Accuracy:\", accuracy)"
   ]
  },
  {
   "cell_type": "code",
   "execution_count": 23,
   "id": "f403e1a8-53c4-4c79-8789-b98d3e5d4a55",
   "metadata": {},
   "outputs": [],
   "source": [
    "import pickle\n",
    "\n",
    "with open('KNNall.pkl', 'wb') as f:\n",
    "    pickle.dump(knn_classifier, f)\n"
   ]
  },
  {
   "cell_type": "markdown",
   "id": "51ccba30-006c-4318-9cf6-22a6ef2357f4",
   "metadata": {},
   "source": [
    "## Decision Tree classifier"
   ]
  },
  {
   "cell_type": "code",
   "execution_count": 20,
   "id": "6f0e4b43-fe93-452f-91b9-7fa05b3e2d1e",
   "metadata": {},
   "outputs": [
    {
     "name": "stdout",
     "output_type": "stream",
     "text": [
      "Accuracy: 0.8599801390268124\n",
      "Classification Report:\n",
      "              precision    recall  f1-score   support\n",
      "\n",
      "           0       0.93      0.89      0.91       377\n",
      "           1       0.83      0.86      0.84       332\n",
      "           2       0.81      0.83      0.82       298\n",
      "\n",
      "    accuracy                           0.86      1007\n",
      "   macro avg       0.86      0.86      0.86      1007\n",
      "weighted avg       0.86      0.86      0.86      1007\n",
      "\n"
     ]
    },
    {
     "data": {
      "image/png": "[encoded data removed]",
      "text/plain": [
       "<Figure size 800x600 with 2 Axes>"
      ]
     },
     "metadata": {},
     "output_type": "display_data"
    }
   ],
   "source": [
    "from sklearn.tree import DecisionTreeClassifier\n",
    "\n",
    "# Load the dataset\n",
    "# Assuming df contains your dataset\n",
    "X = df[['dist_left_ear_shoulder','dist_right_ear_shoulder','dist_shoulder_nose','angle_nose_left_shoulder_right_shoulder']]\n",
    "y = df['class_encoded']\n",
    "\n",
    "# Split the dataset into training and testing sets\n",
    "X_train, X_test, y_train, y_test = train_test_split(X, y, test_size=0.2, random_state=42)\n",
    "\n",
    "# Create a Decision Tree classifier\n",
    "dt_classifier = DecisionTreeClassifier(random_state=42)\n",
    "\n",
    "# Train the classifier\n",
    "dt_classifier.fit(X_train, y_train)\n",
    "\n",
    "# Predict on the test set\n",
    "y_pred = dt_classifier.predict(X_test)\n",
    "\n",
    "# Calculate accuracy\n",
    "accuracy = accuracy_score(y_test, y_pred)\n",
    "print(\"Accuracy:\", accuracy)\n",
    "\n",
    "# Display classification report\n",
    "print(\"Classification Report:\")\n",
    "print(classification_report(y_test, y_pred))\n",
    "\n",
    "# Generate confusion matrix\n",
    "conf_matrix = confusion_matrix(y_test, y_pred)\n",
    "\n",
    "# Display confusion matrix\n",
    "plt.figure(figsize=(8, 6))\n",
    "sns.heatmap(conf_matrix, annot=True, cmap='Blues', fmt='d')\n",
    "plt.xlabel('Predicted labels')\n",
    "plt.ylabel('True labels')\n",
    "plt.title('Confusion Matrix')\n",
    "plt.show()\n"
   ]
  },
  {
   "cell_type": "code",
   "execution_count": 21,
   "id": "34060df6-577e-4d2b-be81-add6d273914f",
   "metadata": {},
   "outputs": [
    {
     "name": "stdout",
     "output_type": "stream",
     "text": [
      "Accuracy: 1.0\n"
     ]
    }
   ],
   "source": [
    "y_pred = dt_classifier.predict(X_train)\n",
    "accuracy = accuracy_score(y_train, y_pred)\n",
    "print(\"Accuracy:\", accuracy)\n"
   ]
  },
  {
   "cell_type": "markdown",
   "id": "cc2d9aef-eeca-4242-a000-bb5c3cbbbe16",
   "metadata": {},
   "source": [
    "### Using smote and imputer"
   ]
  },
  {
   "cell_type": "code",
   "execution_count": 28,
   "id": "c41ba0df-d970-4b1e-8b32-38663972bea7",
   "metadata": {},
   "outputs": [],
   "source": [
    "from sklearn.preprocessing import StandardScaler, MinMaxScaler,RobustScaler\n",
    "robustscaler = RobustScaler()\n",
    "X1 = robustscaler.fit_transform(X)"
   ]
  },
  {
   "cell_type": "code",
   "execution_count": 29,
   "id": "e0a4adc3-d2e8-4c32-9e3d-4e911519a38f",
   "metadata": {},
   "outputs": [],
   "source": [
    "from sklearn.pipeline import Pipeline\n",
    "from sklearn.impute import SimpleImputer, KNNImputer\n",
    "num_features = X.select_dtypes(exclude=\"object\").columns\n",
    "\n",
    "# Fit the KNN imputer with selected K-value\n",
    "knn_pipeline = Pipeline(steps=[\n",
    "    ('imputer', KNNImputer(n_neighbors=3)),\n",
    "    ('RobustScaler', RobustScaler())\n",
    "])"
   ]
  },
  {
   "cell_type": "code",
   "execution_count": 30,
   "id": "48801d64-5ad0-462c-ab69-ce18344f81f2",
   "metadata": {},
   "outputs": [],
   "source": [
    "X = df2[['dist_left_ear_shoulder','dist_right_ear_shoulder','dist_shoulder_nose']]\n",
    "y = df2['class_encoded']"
   ]
  },
  {
   "cell_type": "code",
   "execution_count": 31,
   "id": "ba8edc9d-6d31-4636-b30d-7df5035e9f5e",
   "metadata": {},
   "outputs": [],
   "source": [
    "X_knn =knn_pipeline.fit_transform(X)"
   ]
  },
  {
   "cell_type": "code",
   "execution_count": 32,
   "id": "4ee74f0b-1e93-4f28-b15c-ffc277144dbd",
   "metadata": {},
   "outputs": [
    {
     "name": "stdout",
     "output_type": "stream",
     "text": [
      "n_neighbors= 1 || accuracy (0.4351)\n",
      "n_neighbors= 3 || accuracy (0.4351)\n",
      "n_neighbors= 5 || accuracy (0.4351)\n",
      "n_neighbors= 7 || accuracy (0.4351)\n",
      "n_neighbors= 9 || accuracy (0.4351)\n"
     ]
    }
   ],
   "source": [
    "from sklearn.linear_model import LogisticRegression\n",
    "from sklearn.model_selection import cross_val_score\n",
    "from statistics import mean\n",
    "results=[]\n",
    "# define imputer\n",
    "imputer = KNNImputer(n_neighbors=5, weights='uniform', metric='nan_euclidean')\n",
    "strategies = [str(i) for i in [1,3,5,7,9]]\n",
    "for s in strategies:\n",
    "    pipeline = Pipeline(steps=[('i', KNNImputer(n_neighbors=int(s))), ('m', LogisticRegression())])\n",
    "    scores = cross_val_score(pipeline, X1, y, scoring='accuracy', cv=2, n_jobs=-1)\n",
    "    results.append(scores)\n",
    "    print('n_neighbors= %s || accuracy (%.4f)' % (s , mean(scores)))"
   ]
  },
  {
   "cell_type": "code",
   "execution_count": 33,
   "id": "ebaa0b99-098a-4541-b14c-aaff0b5eaf5c",
   "metadata": {},
   "outputs": [
    {
     "name": "stderr",
     "output_type": "stream",
     "text": [
      "C:\\Users\\hp\\anaconda3\\envs\\mp\\lib\\site-packages\\imblearn\\over_sampling\\_smote\\base.py:363: FutureWarning: The parameter `n_jobs` has been deprecated in 0.10 and will be removed in 0.12. You can pass an nearest neighbors estimator where `n_jobs` is already set instead.\n",
      "  warnings.warn(\n"
     ]
    }
   ],
   "source": [
    "from imblearn.combine import SMOTETomek\n",
    "\n",
    "# Resampling the minority class. The strategy can be changed as required.\n",
    "smt = SMOTETomek(random_state=42,sampling_strategy='minority',n_jobs=-1)\n",
    "# Fit the model to generate the data.\n",
    "X_res, y_res = smt.fit_resample(X_knn, y)"
   ]
  },
  {
   "cell_type": "code",
   "execution_count": 34,
   "id": "ed29d1e1-e4d5-47be-a184-a8f293ea8a3e",
   "metadata": {},
   "outputs": [
    {
     "name": "stdout",
     "output_type": "stream",
     "text": [
      "Accuracy: 0.8808341608738828\n",
      "Classification Report:\n",
      "              precision    recall  f1-score   support\n",
      "\n",
      "           0       0.90      0.95      0.92       377\n",
      "           1       0.85      0.87      0.86       332\n",
      "           2       0.89      0.80      0.84       298\n",
      "\n",
      "    accuracy                           0.88      1007\n",
      "   macro avg       0.88      0.87      0.88      1007\n",
      "weighted avg       0.88      0.88      0.88      1007\n",
      "\n"
     ]
    },
    {
     "data": {
      "image/png": "[encoded data removed]",
      "text/plain": [
       "<Figure size 800x600 with 2 Axes>"
      ]
     },
     "metadata": {},
     "output_type": "display_data"
    }
   ],
   "source": [
    "# Split the dataset into training and testing sets\n",
    "X_train, X_test, y_train, y_test = train_test_split(X, y, test_size=0.2, random_state=42)\n",
    "\n",
    "# Create a K-Nearest Neighbors classifier\n",
    "knn_classifier = KNeighborsClassifier()\n",
    "\n",
    "# Train the classifier\n",
    "knn_classifier.fit(X_train, y_train)\n",
    "\n",
    "# Predict on the test set\n",
    "y_pred = knn_classifier.predict(X_test)\n",
    "\n",
    "# Calculate accuracy\n",
    "accuracy = accuracy_score(y_test, y_pred)\n",
    "print(\"Accuracy:\", accuracy)\n",
    "\n",
    "# Display classification report\n",
    "print(\"Classification Report:\")\n",
    "print(classification_report(y_test, y_pred))\n",
    "\n",
    "# Generate confusion matrix\n",
    "conf_matrix = confusion_matrix(y_test, y_pred)\n",
    "\n",
    "# Display confusion matrix\n",
    "plt.figure(figsize=(8, 6))\n",
    "sns.heatmap(conf_matrix, annot=True, cmap='Blues', fmt='d')\n",
    "plt.xlabel('Predicted labels')\n",
    "plt.ylabel('True labels')\n",
    "plt.title('Confusion Matrix')\n",
    "plt.show()"
   ]
  },
  {
   "cell_type": "code",
   "execution_count": 35,
   "id": "6f273287-3679-4da3-9666-59cd88ff6d55",
   "metadata": {},
   "outputs": [
    {
     "name": "stdout",
     "output_type": "stream",
     "text": [
      "Accuracy: 0.8989071038251366\n"
     ]
    }
   ],
   "source": [
    "y_pred = knn_classifier.predict(X_train)\n",
    "accuracy = accuracy_score(y_train, y_pred)\n",
    "print(\"Accuracy:\", accuracy)\n"
   ]
  },
  {
   "cell_type": "code",
   "execution_count": null,
   "id": "c187de11-a04e-45e4-b998-f4ac0adc2c73",
   "metadata": {},
   "outputs": [],
   "source": []
  }
 ],
 "metadata": {
  "kernelspec": {
   "display_name": "Python 3 (ipykernel)",
   "language": "python",
   "name": "python3"
  },
  "language_info": {
   "codemirror_mode": {
    "name": "ipython",
    "version": 3
   },
   "file_extension": ".py",
   "mimetype": "text/x-python",
   "name": "python",
   "nbconvert_exporter": "python",
   "pygments_lexer": "ipython3",
   "version": "3.8.19"
  }
 },
 "nbformat": 4,
 "nbformat_minor": 5
}
